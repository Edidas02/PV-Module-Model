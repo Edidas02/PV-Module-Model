{
 "cells": [
  {
   "cell_type": "code",
   "execution_count": 1,
   "metadata": {},
   "outputs": [],
   "source": [
    "import numpy as np\n",
    "import pandas as pd\n",
    "import matplotlib.pyplot as plt\n",
    "import sklearn\n",
    "import glob\n",
    "from sklearn import linear_model"
   ]
  },
  {
   "cell_type": "code",
   "execution_count": 2,
   "metadata": {},
   "outputs": [
    {
     "data": {
      "text/plain": [
       "'\\n# raw files\\npaths = [\"DataForValidatingModels/Eugene/\", \"DataForValidatingModels/Cocoa/\", \"DataForValidatingModels/Golden/\"]\\nfiles = sum([glob.glob(path + \"*.csv\") for path in paths], [])\\n\\n#loop over them and create df for each csv\\nfor file in files:\\n    with open(file, \"r\") as f:\\n        f.readline() # skip line\\n        f.readline() # skip line\\n        lines = f.readlines()\\n\\n    with open(\"cleaned/\" + file, \"w\") as f:\\n        header = lines[0].split(\",\")\\n        f.write(\",\".join(header) + \"\\n\") # write header\\n        for line in lines[1:]:\\n            f.write(\",\".join(line.split(\",\")[:len(header)]) + \"\\n\") # write only labeled columns\\ncleaned_files = [\"cleaned/\" + file for file in files]\\n'"
      ]
     },
     "execution_count": 2,
     "metadata": {},
     "output_type": "execute_result"
    }
   ],
   "source": [
    "\"\"\"\n",
    "# raw files\n",
    "paths = [\"DataForValidatingModels/Eugene/\", \"DataForValidatingModels/Cocoa/\", \"DataForValidatingModels/Golden/\"]\n",
    "files = sum([glob.glob(path + \"*.csv\") for path in paths], [])\n",
    "\n",
    "#loop over them and create df for each csv\n",
    "for file in files:\n",
    "    with open(file, \"r\") as f:\n",
    "        f.readline() # skip line\n",
    "        f.readline() # skip line\n",
    "        lines = f.readlines()\n",
    "\n",
    "    with open(\"cleaned/\" + file, \"w\") as f:\n",
    "        header = lines[0].split(\",\")\n",
    "        f.write(\",\".join(header) + \"\\n\") # write header\n",
    "        for line in lines[1:]:\n",
    "            f.write(\",\".join(line.split(\",\")[:len(header)]) + \"\\n\") # write only labeled columns\n",
    "cleaned_files = [\"cleaned/\" + file for file in files]\n",
    "\"\"\""
   ]
  },
  {
   "cell_type": "code",
   "execution_count": 3,
   "metadata": {
    "scrolled": true
   },
   "outputs": [
    {
     "data": {
      "text/plain": [
       "'\\n# create master csv\\ncounts, dfs = {\"Cocoa\": 0, \"Eugene\": 0, \"Golden\": 0}, []\\nfor file in cleaned_files:\\n    df = pd.read_csv(file)\\n    df[\"Time Stamp\"] = df[\"Time Stamp (local standard time) yyyy-mm-ddThh:mm:ss\"].apply(lambda x : x.split(\"T\")[0])\\n    df_filtered = df.groupby([\"Time Stamp\"], as_index=False).first()\\n    site = file.split(\"/\")[2]\\n    df_filtered[\"Site\"], df_filtered[\"Site Index\"] = site, counts[site]\\n    if(file == \"cleaned/DataForValidatingModels/Cocoa/Cocoa_mSi0166.csv\"):\\n        df_filtered[\"Cleaned\"] = 1\\n    if(file == \"cleaned/DataForValidatingModels/Eugene/Eugene_mSi0166.csv\"):\\n        df_filtered[\"Cleaned\"] = 1\\n    if(file == \"cleaned/DataForValidatingModels/Golden/Golden_mSi0247.csv\"):\\n        df_filtered[\"Cleaned\"] = 1\\n    else:\\n        df_filtered[\"Cleaned\"] = 0\\n    counts[site] += 1\\n    dfs.append(df_filtered)\\ndf = pd.concat(dfs)\\ndf.to_csv(\"solar-panels.csv\")\\n'"
      ]
     },
     "execution_count": 3,
     "metadata": {},
     "output_type": "execute_result"
    }
   ],
   "source": [
    "\"\"\"\n",
    "# create master csv\n",
    "counts, dfs = {\"Cocoa\": 0, \"Eugene\": 0, \"Golden\": 0}, []\n",
    "for file in cleaned_files:\n",
    "    df = pd.read_csv(file)\n",
    "    df[\"Time Stamp\"] = df[\"Time Stamp (local standard time) yyyy-mm-ddThh:mm:ss\"].apply(lambda x : x.split(\"T\")[0])\n",
    "    df_filtered = df.groupby([\"Time Stamp\"], as_index=False).first()\n",
    "    site = file.split(\"/\")[2]\n",
    "    df_filtered[\"Site\"], df_filtered[\"Site Index\"] = site, counts[site]\n",
    "    if(file == \"cleaned/DataForValidatingModels/Cocoa/Cocoa_mSi0166.csv\"):\n",
    "        df_filtered[\"Cleaned\"] = 1\n",
    "    if(file == \"cleaned/DataForValidatingModels/Eugene/Eugene_mSi0166.csv\"):\n",
    "        df_filtered[\"Cleaned\"] = 1\n",
    "    if(file == \"cleaned/DataForValidatingModels/Golden/Golden_mSi0247.csv\"):\n",
    "        df_filtered[\"Cleaned\"] = 1\n",
    "    else:\n",
    "        df_filtered[\"Cleaned\"] = 0\n",
    "    counts[site] += 1\n",
    "    dfs.append(df_filtered)\n",
    "df = pd.concat(dfs)\n",
    "df.to_csv(\"solar-panels.csv\")\n",
    "\"\"\""
   ]
  },
  {
   "cell_type": "code",
   "execution_count": 4,
   "metadata": {},
   "outputs": [
    {
     "data": {
      "text/html": [
       "<div>\n",
       "<style scoped>\n",
       "    .dataframe tbody tr th:only-of-type {\n",
       "        vertical-align: middle;\n",
       "    }\n",
       "\n",
       "    .dataframe tbody tr th {\n",
       "        vertical-align: top;\n",
       "    }\n",
       "\n",
       "    .dataframe thead th {\n",
       "        text-align: right;\n",
       "    }\n",
       "</style>\n",
       "<table border=\"1\" class=\"dataframe\">\n",
       "  <thead>\n",
       "    <tr style=\"text-align: right;\">\n",
       "      <th></th>\n",
       "      <th>Unnamed: 0</th>\n",
       "      <th>Time Stamp</th>\n",
       "      <th>Time Stamp (local standard time) yyyy-mm-ddThh:mm:ss</th>\n",
       "      <th>POA irradiance CMP22 pyranometer (W/m2)</th>\n",
       "      <th>POA irradiance uncertainty (%)</th>\n",
       "      <th>PV module back surface temperature (degC)</th>\n",
       "      <th>PV module back surface temperature uncertainty (degC)</th>\n",
       "      <th>Isc (A)</th>\n",
       "      <th>Isc uncertainty (%)</th>\n",
       "      <th>Pmp (W)</th>\n",
       "      <th>...</th>\n",
       "      <th>Diffuse horizontal irradiance standard deviation of 1-second samples of 5-second average (W/m2)</th>\n",
       "      <th>Solar QA residual (W/m2) = Direct*cos(zenith) + Diffuse Horiz. Global Horiz</th>\n",
       "      <th>PV module soiling derate</th>\n",
       "      <th>Daily maintenance start time (hour: minute) - no maintenance that day = 99:99</th>\n",
       "      <th>Daily maintenance end time (hour: minute) - no maintenance that day = 99:99</th>\n",
       "      <th>Precipitation prior to daily maintenance (mm) accumulated daily total</th>\n",
       "      <th>Number of I-V curve data pairs (n)</th>\n",
       "      <th>Site</th>\n",
       "      <th>Site Index</th>\n",
       "      <th>Cleaned</th>\n",
       "    </tr>\n",
       "  </thead>\n",
       "  <tbody>\n",
       "    <tr>\n",
       "      <th>0</th>\n",
       "      <td>0</td>\n",
       "      <td>2012-12-20</td>\n",
       "      <td>2012-12-20T10:40:12</td>\n",
       "      <td>22.7</td>\n",
       "      <td>15.6</td>\n",
       "      <td>5.2</td>\n",
       "      <td>1.9</td>\n",
       "      <td>0.1371</td>\n",
       "      <td>1.1</td>\n",
       "      <td>4.8606</td>\n",
       "      <td>...</td>\n",
       "      <td>0.0</td>\n",
       "      <td>0.3</td>\n",
       "      <td>1.0</td>\n",
       "      <td>15:52</td>\n",
       "      <td>15:56</td>\n",
       "      <td>24.0</td>\n",
       "      <td>185</td>\n",
       "      <td>Eugene</td>\n",
       "      <td>0</td>\n",
       "      <td>0</td>\n",
       "    </tr>\n",
       "    <tr>\n",
       "      <th>1</th>\n",
       "      <td>1</td>\n",
       "      <td>2012-12-21</td>\n",
       "      <td>2012-12-21T09:00:12</td>\n",
       "      <td>22.4</td>\n",
       "      <td>15.9</td>\n",
       "      <td>6.8</td>\n",
       "      <td>1.9</td>\n",
       "      <td>0.1353</td>\n",
       "      <td>1.0</td>\n",
       "      <td>4.7491</td>\n",
       "      <td>...</td>\n",
       "      <td>0.0</td>\n",
       "      <td>0.2</td>\n",
       "      <td>1.0</td>\n",
       "      <td>08:36</td>\n",
       "      <td>08:42</td>\n",
       "      <td>1.0</td>\n",
       "      <td>185</td>\n",
       "      <td>Eugene</td>\n",
       "      <td>0</td>\n",
       "      <td>0</td>\n",
       "    </tr>\n",
       "    <tr>\n",
       "      <th>2</th>\n",
       "      <td>2</td>\n",
       "      <td>2012-12-22</td>\n",
       "      <td>2012-12-22T08:15:12</td>\n",
       "      <td>59.1</td>\n",
       "      <td>7.2</td>\n",
       "      <td>6.1</td>\n",
       "      <td>1.9</td>\n",
       "      <td>0.3532</td>\n",
       "      <td>0.5</td>\n",
       "      <td>13.4801</td>\n",
       "      <td>...</td>\n",
       "      <td>0.0</td>\n",
       "      <td>-0.5</td>\n",
       "      <td>1.0</td>\n",
       "      <td>99:99</td>\n",
       "      <td>99:99</td>\n",
       "      <td>-9999.0</td>\n",
       "      <td>185</td>\n",
       "      <td>Eugene</td>\n",
       "      <td>0</td>\n",
       "      <td>0</td>\n",
       "    </tr>\n",
       "    <tr>\n",
       "      <th>3</th>\n",
       "      <td>3</td>\n",
       "      <td>2012-12-23</td>\n",
       "      <td>2012-12-23T11:25:12</td>\n",
       "      <td>20.5</td>\n",
       "      <td>17.3</td>\n",
       "      <td>6.3</td>\n",
       "      <td>1.9</td>\n",
       "      <td>0.1231</td>\n",
       "      <td>1.1</td>\n",
       "      <td>4.3016</td>\n",
       "      <td>...</td>\n",
       "      <td>0.0</td>\n",
       "      <td>0.4</td>\n",
       "      <td>1.0</td>\n",
       "      <td>99:99</td>\n",
       "      <td>99:99</td>\n",
       "      <td>-9999.0</td>\n",
       "      <td>184</td>\n",
       "      <td>Eugene</td>\n",
       "      <td>0</td>\n",
       "      <td>0</td>\n",
       "    </tr>\n",
       "    <tr>\n",
       "      <th>4</th>\n",
       "      <td>4</td>\n",
       "      <td>2012-12-24</td>\n",
       "      <td>2012-12-24T08:30:13</td>\n",
       "      <td>21.3</td>\n",
       "      <td>16.7</td>\n",
       "      <td>6.1</td>\n",
       "      <td>1.9</td>\n",
       "      <td>0.1165</td>\n",
       "      <td>1.2</td>\n",
       "      <td>4.0609</td>\n",
       "      <td>...</td>\n",
       "      <td>0.0</td>\n",
       "      <td>0.0</td>\n",
       "      <td>1.0</td>\n",
       "      <td>08:04</td>\n",
       "      <td>08:13</td>\n",
       "      <td>1.4</td>\n",
       "      <td>184</td>\n",
       "      <td>Eugene</td>\n",
       "      <td>0</td>\n",
       "      <td>0</td>\n",
       "    </tr>\n",
       "  </tbody>\n",
       "</table>\n",
       "<p>5 rows × 47 columns</p>\n",
       "</div>"
      ],
      "text/plain": [
       "   Unnamed: 0  Time Stamp  \\\n",
       "0           0  2012-12-20   \n",
       "1           1  2012-12-21   \n",
       "2           2  2012-12-22   \n",
       "3           3  2012-12-23   \n",
       "4           4  2012-12-24   \n",
       "\n",
       "  Time Stamp (local standard time) yyyy-mm-ddThh:mm:ss  \\\n",
       "0                                2012-12-20T10:40:12     \n",
       "1                                2012-12-21T09:00:12     \n",
       "2                                2012-12-22T08:15:12     \n",
       "3                                2012-12-23T11:25:12     \n",
       "4                                2012-12-24T08:30:13     \n",
       "\n",
       "   POA irradiance CMP22 pyranometer (W/m2)  POA irradiance uncertainty (%)  \\\n",
       "0                                     22.7                            15.6   \n",
       "1                                     22.4                            15.9   \n",
       "2                                     59.1                             7.2   \n",
       "3                                     20.5                            17.3   \n",
       "4                                     21.3                            16.7   \n",
       "\n",
       "   PV module back surface temperature (degC)  \\\n",
       "0                                        5.2   \n",
       "1                                        6.8   \n",
       "2                                        6.1   \n",
       "3                                        6.3   \n",
       "4                                        6.1   \n",
       "\n",
       "   PV module back surface temperature uncertainty (degC)  Isc (A)  \\\n",
       "0                                                1.9       0.1371   \n",
       "1                                                1.9       0.1353   \n",
       "2                                                1.9       0.3532   \n",
       "3                                                1.9       0.1231   \n",
       "4                                                1.9       0.1165   \n",
       "\n",
       "   Isc uncertainty (%)  Pmp (W)  ...  \\\n",
       "0                  1.1   4.8606  ...   \n",
       "1                  1.0   4.7491  ...   \n",
       "2                  0.5  13.4801  ...   \n",
       "3                  1.1   4.3016  ...   \n",
       "4                  1.2   4.0609  ...   \n",
       "\n",
       "   Diffuse horizontal irradiance standard deviation of 1-second samples of 5-second average (W/m2)  \\\n",
       "0                                                0.0                                                 \n",
       "1                                                0.0                                                 \n",
       "2                                                0.0                                                 \n",
       "3                                                0.0                                                 \n",
       "4                                                0.0                                                 \n",
       "\n",
       "   Solar QA residual (W/m2) = Direct*cos(zenith) + Diffuse Horiz. Global Horiz  \\\n",
       "0                                                0.3                             \n",
       "1                                                0.2                             \n",
       "2                                               -0.5                             \n",
       "3                                                0.4                             \n",
       "4                                                0.0                             \n",
       "\n",
       "   PV module soiling derate  \\\n",
       "0                       1.0   \n",
       "1                       1.0   \n",
       "2                       1.0   \n",
       "3                       1.0   \n",
       "4                       1.0   \n",
       "\n",
       "   Daily maintenance start time (hour: minute) - no maintenance that day = 99:99  \\\n",
       "0                                              15:52                               \n",
       "1                                              08:36                               \n",
       "2                                              99:99                               \n",
       "3                                              99:99                               \n",
       "4                                              08:04                               \n",
       "\n",
       "   Daily maintenance end time (hour: minute) - no maintenance that day = 99:99  \\\n",
       "0                                              15:56                             \n",
       "1                                              08:42                             \n",
       "2                                              99:99                             \n",
       "3                                              99:99                             \n",
       "4                                              08:13                             \n",
       "\n",
       "   Precipitation prior to daily maintenance (mm) accumulated daily total  \\\n",
       "0                                               24.0                       \n",
       "1                                                1.0                       \n",
       "2                                            -9999.0                       \n",
       "3                                            -9999.0                       \n",
       "4                                                1.4                       \n",
       "\n",
       "   Number of I-V curve data pairs (n)    Site  Site Index  Cleaned  \n",
       "0                                 185  Eugene           0        0  \n",
       "1                                 185  Eugene           0        0  \n",
       "2                                 185  Eugene           0        0  \n",
       "3                                 184  Eugene           0        0  \n",
       "4                                 184  Eugene           0        0  \n",
       "\n",
       "[5 rows x 47 columns]"
      ]
     },
     "execution_count": 4,
     "metadata": {},
     "output_type": "execute_result"
    }
   ],
   "source": [
    "# read data\n",
    "df = pd.read_csv(\"solar-panels.csv\")\n",
    "df.head()"
   ]
  },
  {
   "cell_type": "code",
   "execution_count": 17,
   "metadata": {},
   "outputs": [
    {
     "data": {
      "text/html": [
       "<div>\n",
       "<style scoped>\n",
       "    .dataframe tbody tr th:only-of-type {\n",
       "        vertical-align: middle;\n",
       "    }\n",
       "\n",
       "    .dataframe tbody tr th {\n",
       "        vertical-align: top;\n",
       "    }\n",
       "\n",
       "    .dataframe thead th {\n",
       "        text-align: right;\n",
       "    }\n",
       "</style>\n",
       "<table border=\"1\" class=\"dataframe\">\n",
       "  <thead>\n",
       "    <tr style=\"text-align: right;\">\n",
       "      <th></th>\n",
       "      <th>Unnamed: 0</th>\n",
       "      <th>date_time</th>\n",
       "      <th>maxtempC</th>\n",
       "      <th>mintempC</th>\n",
       "      <th>totalSnow_cm</th>\n",
       "      <th>sunHour</th>\n",
       "      <th>uvIndex</th>\n",
       "      <th>moon_illumination</th>\n",
       "      <th>moonrise</th>\n",
       "      <th>moonset</th>\n",
       "      <th>...</th>\n",
       "      <th>WindGustKmph</th>\n",
       "      <th>cloudcover</th>\n",
       "      <th>humidity</th>\n",
       "      <th>precipMM</th>\n",
       "      <th>pressure</th>\n",
       "      <th>tempC</th>\n",
       "      <th>visibility</th>\n",
       "      <th>winddirDegree</th>\n",
       "      <th>windspeedKmph</th>\n",
       "      <th>location</th>\n",
       "    </tr>\n",
       "  </thead>\n",
       "  <tbody>\n",
       "    <tr>\n",
       "      <th>0</th>\n",
       "      <td>0</td>\n",
       "      <td>2011-01-21</td>\n",
       "      <td>20</td>\n",
       "      <td>17</td>\n",
       "      <td>0.0</td>\n",
       "      <td>5.2</td>\n",
       "      <td>4</td>\n",
       "      <td>84</td>\n",
       "      <td>09:11 PM</td>\n",
       "      <td>09:21 AM</td>\n",
       "      <td>...</td>\n",
       "      <td>21</td>\n",
       "      <td>70</td>\n",
       "      <td>91</td>\n",
       "      <td>6.0</td>\n",
       "      <td>1010</td>\n",
       "      <td>20</td>\n",
       "      <td>10</td>\n",
       "      <td>176</td>\n",
       "      <td>14</td>\n",
       "      <td>32922</td>\n",
       "    </tr>\n",
       "    <tr>\n",
       "      <th>1</th>\n",
       "      <td>1</td>\n",
       "      <td>2011-01-22</td>\n",
       "      <td>16</td>\n",
       "      <td>9</td>\n",
       "      <td>0.0</td>\n",
       "      <td>10.4</td>\n",
       "      <td>4</td>\n",
       "      <td>77</td>\n",
       "      <td>10:17 PM</td>\n",
       "      <td>10:00 AM</td>\n",
       "      <td>...</td>\n",
       "      <td>28</td>\n",
       "      <td>38</td>\n",
       "      <td>75</td>\n",
       "      <td>0.2</td>\n",
       "      <td>1011</td>\n",
       "      <td>16</td>\n",
       "      <td>10</td>\n",
       "      <td>299</td>\n",
       "      <td>21</td>\n",
       "      <td>32922</td>\n",
       "    </tr>\n",
       "    <tr>\n",
       "      <th>2</th>\n",
       "      <td>2</td>\n",
       "      <td>2011-01-23</td>\n",
       "      <td>15</td>\n",
       "      <td>6</td>\n",
       "      <td>0.0</td>\n",
       "      <td>10.4</td>\n",
       "      <td>4</td>\n",
       "      <td>69</td>\n",
       "      <td>11:23 PM</td>\n",
       "      <td>10:37 AM</td>\n",
       "      <td>...</td>\n",
       "      <td>21</td>\n",
       "      <td>8</td>\n",
       "      <td>67</td>\n",
       "      <td>0.0</td>\n",
       "      <td>1020</td>\n",
       "      <td>15</td>\n",
       "      <td>10</td>\n",
       "      <td>221</td>\n",
       "      <td>14</td>\n",
       "      <td>32922</td>\n",
       "    </tr>\n",
       "    <tr>\n",
       "      <th>3</th>\n",
       "      <td>3</td>\n",
       "      <td>2011-01-24</td>\n",
       "      <td>20</td>\n",
       "      <td>13</td>\n",
       "      <td>0.0</td>\n",
       "      <td>8.4</td>\n",
       "      <td>4</td>\n",
       "      <td>62</td>\n",
       "      <td>No moonrise</td>\n",
       "      <td>11:16 AM</td>\n",
       "      <td>...</td>\n",
       "      <td>22</td>\n",
       "      <td>44</td>\n",
       "      <td>74</td>\n",
       "      <td>0.6</td>\n",
       "      <td>1022</td>\n",
       "      <td>20</td>\n",
       "      <td>10</td>\n",
       "      <td>99</td>\n",
       "      <td>14</td>\n",
       "      <td>32922</td>\n",
       "    </tr>\n",
       "    <tr>\n",
       "      <th>4</th>\n",
       "      <td>4</td>\n",
       "      <td>2011-01-25</td>\n",
       "      <td>23</td>\n",
       "      <td>18</td>\n",
       "      <td>0.0</td>\n",
       "      <td>5.2</td>\n",
       "      <td>5</td>\n",
       "      <td>55</td>\n",
       "      <td>12:27 AM</td>\n",
       "      <td>11:55 AM</td>\n",
       "      <td>...</td>\n",
       "      <td>38</td>\n",
       "      <td>71</td>\n",
       "      <td>83</td>\n",
       "      <td>3.4</td>\n",
       "      <td>1016</td>\n",
       "      <td>23</td>\n",
       "      <td>10</td>\n",
       "      <td>158</td>\n",
       "      <td>23</td>\n",
       "      <td>32922</td>\n",
       "    </tr>\n",
       "  </tbody>\n",
       "</table>\n",
       "<p>5 rows × 26 columns</p>\n",
       "</div>"
      ],
      "text/plain": [
       "   Unnamed: 0   date_time  maxtempC  mintempC  totalSnow_cm  sunHour  uvIndex  \\\n",
       "0           0  2011-01-21        20        17           0.0      5.2        4   \n",
       "1           1  2011-01-22        16         9           0.0     10.4        4   \n",
       "2           2  2011-01-23        15         6           0.0     10.4        4   \n",
       "3           3  2011-01-24        20        13           0.0      8.4        4   \n",
       "4           4  2011-01-25        23        18           0.0      5.2        5   \n",
       "\n",
       "   moon_illumination     moonrise   moonset  ... WindGustKmph cloudcover  \\\n",
       "0                 84     09:11 PM  09:21 AM  ...           21         70   \n",
       "1                 77     10:17 PM  10:00 AM  ...           28         38   \n",
       "2                 69     11:23 PM  10:37 AM  ...           21          8   \n",
       "3                 62  No moonrise  11:16 AM  ...           22         44   \n",
       "4                 55     12:27 AM  11:55 AM  ...           38         71   \n",
       "\n",
       "   humidity  precipMM  pressure  tempC  visibility  winddirDegree  \\\n",
       "0        91       6.0      1010     20          10            176   \n",
       "1        75       0.2      1011     16          10            299   \n",
       "2        67       0.0      1020     15          10            221   \n",
       "3        74       0.6      1022     20          10             99   \n",
       "4        83       3.4      1016     23          10            158   \n",
       "\n",
       "   windspeedKmph  location  \n",
       "0             14     32922  \n",
       "1             21     32922  \n",
       "2             14     32922  \n",
       "3             14     32922  \n",
       "4             23     32922  \n",
       "\n",
       "[5 rows x 26 columns]"
      ]
     },
     "execution_count": 17,
     "metadata": {},
     "output_type": "execute_result"
    }
   ],
   "source": [
    "df_weather = pd.read_csv(\"weather-data.csv\")\n",
    "df_weather.head()"
   ]
  },
  {
   "cell_type": "code",
   "execution_count": 5,
   "metadata": {},
   "outputs": [],
   "source": [
    "# filter data\n",
    "df2 = df[df[\"Relative humidity (%RH)\"] != -9999]\n",
    "df3 = df2[df2[\"POA irradiance CMP22 pyranometer (W/m2)\"] < 400]"
   ]
  },
  {
   "cell_type": "code",
   "execution_count": 6,
   "metadata": {},
   "outputs": [
    {
     "data": {
      "text/plain": [
       "Text(0.5, 1.0, 'Soiling Degradation vs Humidity')"
      ]
     },
     "execution_count": 6,
     "metadata": {},
     "output_type": "execute_result"
    },
    {
     "data": {
      "image/png": "[encoded data removed]",
      "text/plain": [
       "<Figure size 432x288 with 1 Axes>"
      ]
     },
     "metadata": {
      "needs_background": "light"
     },
     "output_type": "display_data"
    }
   ],
   "source": [
    "plt.scatter(df3[\"Relative humidity (%RH)\"], df3[\"PV module soiling derate\"], color=\"black\") \n",
    "plt.xlabel(\"Relative Humidity\"); plt.ylabel(\"Soiling Derate\")\n",
    "plt.title(\"Soiling Degradation vs Humidity\")"
   ]
  },
  {
   "cell_type": "code",
   "execution_count": 7,
   "metadata": {},
   "outputs": [
    {
     "data": {
      "text/plain": [
       "Text(0.5, 1.0, 'Back Temperature Effect on Soiling Degradation')"
      ]
     },
     "execution_count": 7,
     "metadata": {},
     "output_type": "execute_result"
    },
    {
     "data": {
      "image/png": "[encoded data removed]",
      "text/plain": [
       "<Figure size 432x288 with 1 Axes>"
      ]
     },
     "metadata": {
      "needs_background": "light"
     },
     "output_type": "display_data"
    }
   ],
   "source": [
    "plt.scatter(df3[\"PV module back surface temperature (degC)\"], df3[\"PV module soiling derate\"], color=\"black\") \n",
    "plt.xlabel(\"Back Temperature\"); plt.ylabel(\"Soiling Derate\")\n",
    "plt.title(\"Back Temperature Effect on Soiling Degradation\")"
   ]
  },
  {
   "cell_type": "code",
   "execution_count": 8,
   "metadata": {},
   "outputs": [
    {
     "data": {
      "text/plain": [
       "Text(0.5, 1.0, 'Soiling Degradation vs POA Irradiance')"
      ]
     },
     "execution_count": 8,
     "metadata": {},
     "output_type": "execute_result"
    },
    {
     "data": {
      "image/png": "[encoded data removed]",
      "text/plain": [
       "<Figure size 432x288 with 1 Axes>"
      ]
     },
     "metadata": {
      "needs_background": "light"
     },
     "output_type": "display_data"
    }
   ],
   "source": [
    "plt.scatter(df3[\"PV module soiling derate\"], df3[\"POA irradiance CMP22 pyranometer (W/m2)\"], color=\"black\") \n",
    "plt.xlabel(\"Soiling Derate\"); plt.ylabel(\"POA Irradiance\")\n",
    "plt.title(\"Soiling Degradation vs POA Irradiance\")"
   ]
  },
  {
   "cell_type": "code",
   "execution_count": 9,
   "metadata": {},
   "outputs": [
    {
     "name": "stdout",
     "output_type": "stream",
     "text": [
      "count    11286.000000\n",
      "mean      -901.523755\n",
      "std       2980.774222\n",
      "min      -9999.000000\n",
      "25%         51.100000\n",
      "50%         82.000000\n",
      "75%         89.700000\n",
      "max        100.000000\n",
      "Name: Relative humidity (%RH), dtype: float64\n",
      "count    10188.000000\n",
      "mean        74.999058\n",
      "std         21.237882\n",
      "min         10.300000\n",
      "25%         68.875000\n",
      "50%         83.800000\n",
      "75%         90.200000\n",
      "max        100.000000\n",
      "Name: Relative humidity (%RH), dtype: float64\n"
     ]
    },
    {
     "data": {
      "text/plain": [
       "<matplotlib.axes._subplots.AxesSubplot at 0x1a1a654a50>"
      ]
     },
     "execution_count": 9,
     "metadata": {},
     "output_type": "execute_result"
    },
    {
     "data": {
      "image/png": "[encoded data removed]",
      "text/plain": [
       "<Figure size 432x288 with 1 Axes>"
      ]
     },
     "metadata": {
      "needs_background": "light"
     },
     "output_type": "display_data"
    }
   ],
   "source": [
    "print(df[\"Relative humidity (%RH)\"].describe())\n",
    "print(df3[\"Relative humidity (%RH)\"].describe())\n",
    "df3[\"Relative humidity (%RH)\"].hist()"
   ]
  },
  {
   "cell_type": "code",
   "execution_count": 10,
   "metadata": {},
   "outputs": [
    {
     "name": "stdout",
     "output_type": "stream",
     "text": [
      "count    11286.000000\n",
      "mean        12.598627\n",
      "std          7.848526\n",
      "min        -18.900000\n",
      "25%          7.100000\n",
      "50%         13.000000\n",
      "75%         18.500000\n",
      "max         47.700000\n",
      "Name: PV module back surface temperature (degC), dtype: float64\n",
      "count    10188.000000\n",
      "mean        12.600481\n",
      "std          7.817854\n",
      "min        -18.900000\n",
      "25%          7.000000\n",
      "50%         12.800000\n",
      "75%         18.600000\n",
      "max         28.200000\n",
      "Name: PV module back surface temperature (degC), dtype: float64\n"
     ]
    },
    {
     "data": {
      "text/plain": [
       "<matplotlib.axes._subplots.AxesSubplot at 0x1a1a77e3d0>"
      ]
     },
     "execution_count": 10,
     "metadata": {},
     "output_type": "execute_result"
    },
    {
     "data": {
      "image/png": "[encoded data removed]",
      "text/plain": [
       "<Figure size 432x288 with 1 Axes>"
      ]
     },
     "metadata": {
      "needs_background": "light"
     },
     "output_type": "display_data"
    }
   ],
   "source": [
    "print(df[\"PV module back surface temperature (degC)\"].describe())\n",
    "print(df3[\"PV module back surface temperature (degC)\"].describe())\n",
    "df3[\"PV module back surface temperature (degC)\"].hist()"
   ]
  },
  {
   "cell_type": "code",
   "execution_count": 11,
   "metadata": {},
   "outputs": [
    {
     "name": "stdout",
     "output_type": "stream",
     "text": [
      "count    11286.000000\n",
      "mean         0.997620\n",
      "std          0.004866\n",
      "min          0.964000\n",
      "25%          0.995000\n",
      "50%          1.000000\n",
      "75%          1.000000\n",
      "max          1.000000\n",
      "Name: PV module soiling derate, dtype: float64\n",
      "count    10188.000000\n",
      "mean         0.997753\n",
      "std          0.004877\n",
      "min          0.964000\n",
      "25%          1.000000\n",
      "50%          1.000000\n",
      "75%          1.000000\n",
      "max          1.000000\n",
      "Name: PV module soiling derate, dtype: float64\n"
     ]
    },
    {
     "data": {
      "text/plain": [
       "<matplotlib.axes._subplots.AxesSubplot at 0x1a1a736b50>"
      ]
     },
     "execution_count": 11,
     "metadata": {},
     "output_type": "execute_result"
    },
    {
     "data": {
      "image/png": "[encoded data removed]",
      "text/plain": [
       "<Figure size 432x288 with 1 Axes>"
      ]
     },
     "metadata": {
      "needs_background": "light"
     },
     "output_type": "display_data"
    }
   ],
   "source": [
    "print(df[\"PV module soiling derate\"].describe())\n",
    "print(df3[\"PV module soiling derate\"].describe())\n",
    "df3[\"PV module soiling derate\"].hist()"
   ]
  },
  {
   "cell_type": "code",
   "execution_count": 12,
   "metadata": {},
   "outputs": [
    {
     "name": "stdout",
     "output_type": "stream",
     "text": [
      "count    11286.000000\n",
      "mean        44.487852\n",
      "std         39.186134\n",
      "min         20.000000\n",
      "25%         22.800000\n",
      "50%         27.200000\n",
      "75%         57.600000\n",
      "max       1100.600000\n",
      "Name: POA irradiance CMP22 pyranometer (W/m2), dtype: float64\n",
      "count    10188.000000\n",
      "mean        41.554250\n",
      "std         36.304042\n",
      "min         20.000000\n",
      "25%         22.500000\n",
      "50%         25.900000\n",
      "75%         53.500000\n",
      "max        399.700000\n",
      "Name: POA irradiance CMP22 pyranometer (W/m2), dtype: float64\n"
     ]
    },
    {
     "data": {
      "text/plain": [
       "<matplotlib.axes._subplots.AxesSubplot at 0x1a1a93a250>"
      ]
     },
     "execution_count": 12,
     "metadata": {},
     "output_type": "execute_result"
    },
    {
     "data": {
      "image/png": "[encoded data removed]",
      "text/plain": [
       "<Figure size 432x288 with 1 Axes>"
      ]
     },
     "metadata": {
      "needs_background": "light"
     },
     "output_type": "display_data"
    }
   ],
   "source": [
    "print(df[\"POA irradiance CMP22 pyranometer (W/m2)\"].describe())\n",
    "print(df3[\"POA irradiance CMP22 pyranometer (W/m2)\"].describe())\n",
    "df3[\"POA irradiance CMP22 pyranometer (W/m2)\"].hist()"
   ]
  },
  {
   "cell_type": "code",
   "execution_count": 13,
   "metadata": {},
   "outputs": [
    {
     "name": "stdout",
     "output_type": "stream",
     "text": [
      "mean squared error 2.3375938699608887e-05\n",
      "coefficients [[ 3.04336785e-05 -2.23806953e-05]]\n"
     ]
    }
   ],
   "source": [
    "# create basic regression model\n",
    "x_vars = [\"Relative humidity (%RH)\", \"PV module back surface temperature (degC)\"]\n",
    "y_var = [\"PV module soiling derate\"]\n",
    "simple_reg = sklearn.linear_model.LinearRegression(normalize=True)\n",
    "simple_reg.fit(df3.loc[:, x_vars], df3.loc[:, y_var])\n",
    "\n",
    "# predictions\n",
    "pred = simple_reg.predict(df3.loc[:, x_vars])\n",
    "print(\"mean squared error\", sklearn.metrics.mean_squared_error(pred, df3.loc[:, y_var]))\n",
    "print(\"coefficients\", simple_reg.coef_)"
   ]
  },
  {
   "cell_type": "code",
   "execution_count": 14,
   "metadata": {},
   "outputs": [],
   "source": [
    "df_cleaned = df3[df3[\"Cleaned\"] == 1]\n",
    "df_dirty = df3[df3[\"Cleaned\"] == 0]"
   ]
  },
  {
   "cell_type": "code",
   "execution_count": 15,
   "metadata": {},
   "outputs": [
    {
     "name": "stdout",
     "output_type": "stream",
     "text": [
      "mean squared error 2.3687567835300785e-05\n",
      "coefficients [[ 3.63955681e-05 -2.21484936e-05]]\n"
     ]
    }
   ],
   "source": [
    "# create basic regression model\n",
    "simple_reg = sklearn.linear_model.LinearRegression(normalize=True)\n",
    "simple_reg.fit(df_dirty.loc[:, x_vars], df_dirty.loc[:, y_var])\n",
    "\n",
    "# predictions\n",
    "pred = simple_reg.predict(df_dirty.loc[:, x_vars])\n",
    "print(\"mean squared error\", sklearn.metrics.mean_squared_error(pred, df_dirty.loc[:, y_var]))\n",
    "print(\"coefficients\", simple_reg.coef_)"
   ]
  },
  {
   "cell_type": "code",
   "execution_count": 16,
   "metadata": {},
   "outputs": [
    {
     "name": "stdout",
     "output_type": "stream",
     "text": [
      "mean squared error 0.0\n",
      "coefficients [[0. 0.]]\n"
     ]
    }
   ],
   "source": [
    "# create basic regression model\n",
    "simple_reg = sklearn.linear_model.LinearRegression(normalize=True)\n",
    "simple_reg.fit(df_cleaned.loc[:, x_vars], df_cleaned.loc[:, y_var])\n",
    "\n",
    "# predictions\n",
    "pred = simple_reg.predict(df_cleaned.loc[:, x_vars])\n",
    "print(\"mean squared error\", sklearn.metrics.mean_squared_error(pred, df_cleaned.loc[:, y_var]))\n",
    "print(\"coefficients\", simple_reg.coef_)"
   ]
  },
  {
   "cell_type": "code",
   "execution_count": null,
   "metadata": {},
   "outputs": [],
   "source": []
  }
 ],
 "metadata": {
  "kernelspec": {
   "display_name": "Python 3",
   "language": "python",
   "name": "python3"
  },
  "language_info": {
   "codemirror_mode": {
    "name": "ipython",
    "version": 3
   },
   "file_extension": ".py",
   "mimetype": "text/x-python",
   "name": "python",
   "nbconvert_exporter": "python",
   "pygments_lexer": "ipython3",
   "version": "3.7.7"
  }
 },
 "nbformat": 4,
 "nbformat_minor": 4
}
