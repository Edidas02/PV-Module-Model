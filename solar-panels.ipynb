{
 "cells": [
  {
   "cell_type": "code",
   "execution_count": 1,
   "metadata": {},
   "outputs": [],
   "source": [
    "import numpy as np\n",
    "import pandas as pd\n",
    "import glob"
   ]
  },
  {
   "cell_type": "code",
   "execution_count": 2,
   "metadata": {},
   "outputs": [
    {
     "name": "stdout",
     "output_type": "stream",
     "text": [
      "['DataForValidatingModels/Cocoa/Cocoa_mSi0188.csv', 'DataForValidatingModels/Cocoa/Cocoa_mSi0166.csv', 'DataForValidatingModels/Cocoa/Cocoa_xSi12922.csv', 'DataForValidatingModels/Cocoa/Cocoa_aSiMicro03036.csv', 'DataForValidatingModels/Cocoa/Cocoa_HIT05667.csv', 'DataForValidatingModels/Cocoa/Cocoa_CdTe75638.csv', 'DataForValidatingModels/Cocoa/Cocoa_CIGS8-001.csv', 'DataForValidatingModels/Cocoa/Cocoa_aSiTandem72-46.csv', 'DataForValidatingModels/Cocoa/Cocoa_aSiTriple28324.csv', 'DataForValidatingModels/Cocoa/Cocoa_CIGS39017.csv', 'DataForValidatingModels/Cocoa/Cocoa_mSi460A8.csv', 'DataForValidatingModels/Eugene/Eugene_HIT05667.csv', 'DataForValidatingModels/Eugene/Eugene_xSi12922.csv', 'DataForValidatingModels/Eugene/Eugene_aSiMicro03036.csv', 'DataForValidatingModels/Eugene/Eugene_aSiTriple28324.csv', 'DataForValidatingModels/Eugene/Eugene_CIGS8-001.csv', 'DataForValidatingModels/Eugene/Eugene_CdTe75638.csv', 'DataForValidatingModels/Eugene/Eugene_mSi0188.csv', 'DataForValidatingModels/Eugene/Eugene_CIGS39017.csv', 'DataForValidatingModels/Eugene/Eugene_aSiTandem72-46.csv', 'DataForValidatingModels/Eugene/Eugene_mSi0166.csv', 'DataForValidatingModels/Eugene/Eugene_mSi460A8.csv', 'DataForValidatingModels/Golden/Golden_xSi11246.csv', 'DataForValidatingModels/Golden/Golden_CIGS39013.csv', 'DataForValidatingModels/Golden/Golden_aSiTandem90-31.csv', 'DataForValidatingModels/Golden/Golden_mSi0251.csv', 'DataForValidatingModels/Golden/Golden_mSi0247.csv', 'DataForValidatingModels/Golden/Golden_HIT05662.csv', 'DataForValidatingModels/Golden/Golden_CIGS1-001.csv', 'DataForValidatingModels/Golden/Golden_aSiTriple28325.csv', 'DataForValidatingModels/Golden/Golden_aSiMicro03038.csv', 'DataForValidatingModels/Golden/Golden_mSi460BB.csv', 'DataForValidatingModels/Golden/Golden_CdTe75669.csv']\n"
     ]
    },
    {
     "data": {
      "text/plain": [
       "'print(eug_files)\\nprint(coc_files)\\nprint(gold_files)'"
      ]
     },
     "execution_count": 2,
     "metadata": {},
     "output_type": "execute_result"
    }
   ],
   "source": [
    "path_e = \"DataForValidatingModels/Eugene\"\n",
    "path_c = \"DataForValidatingModels/Cocoa\"\n",
    "path_g = \"DataForValidatingModels/Golden\"\n",
    "eug_files = glob.glob(path_e + '/*.csv')\n",
    "coc_files = glob.glob(path_c + '/*.csv')\n",
    "gold_files = glob.glob(path_g + '/*.csv')\n",
    "all_files = coc_files + eug_files + gold_files\n",
    "print(all_files)\n",
    "#repeat for 3 and put them together\n",
    "'''print(eug_files)\n",
    "print(coc_files)\n",
    "print(gold_files)'''"
   ]
  },
  {
   "cell_type": "code",
   "execution_count": 5,
   "metadata": {},
   "outputs": [
    {
     "ename": "FileNotFoundError",
     "evalue": "[Errno 2] No such file or directory: 'cleaned/DataForValidatingModels/Cocoa/Cocoa_mSi0188.csv'",
     "output_type": "error",
     "traceback": [
      "\u001b[0;31m---------------------------------------------------------------------------\u001b[0m",
      "\u001b[0;31mFileNotFoundError\u001b[0m                         Traceback (most recent call last)",
      "\u001b[0;32m<ipython-input-5-b4ecd5d7963a>\u001b[0m in \u001b[0;36m<module>\u001b[0;34m\u001b[0m\n\u001b[1;32m      6\u001b[0m         \u001b[0mlines\u001b[0m \u001b[0;34m=\u001b[0m \u001b[0mf\u001b[0m\u001b[0;34m.\u001b[0m\u001b[0mreadlines\u001b[0m\u001b[0;34m(\u001b[0m\u001b[0;34m)\u001b[0m\u001b[0;34m\u001b[0m\u001b[0;34m\u001b[0m\u001b[0m\n\u001b[1;32m      7\u001b[0m \u001b[0;34m\u001b[0m\u001b[0m\n\u001b[0;32m----> 8\u001b[0;31m     \u001b[0;32mwith\u001b[0m \u001b[0mopen\u001b[0m\u001b[0;34m(\u001b[0m\u001b[0;34m\"cleaned/\"\u001b[0m \u001b[0;34m+\u001b[0m \u001b[0mfile\u001b[0m\u001b[0;34m,\u001b[0m \u001b[0;34m\"w\"\u001b[0m\u001b[0;34m)\u001b[0m \u001b[0;32mas\u001b[0m \u001b[0mf\u001b[0m\u001b[0;34m:\u001b[0m\u001b[0;34m\u001b[0m\u001b[0;34m\u001b[0m\u001b[0m\n\u001b[0m\u001b[1;32m      9\u001b[0m         \u001b[0mheader\u001b[0m \u001b[0;34m=\u001b[0m \u001b[0mlines\u001b[0m\u001b[0;34m[\u001b[0m\u001b[0;36m0\u001b[0m\u001b[0;34m]\u001b[0m\u001b[0;34m.\u001b[0m\u001b[0msplit\u001b[0m\u001b[0;34m(\u001b[0m\u001b[0;34m\",\"\u001b[0m\u001b[0;34m)\u001b[0m\u001b[0;34m\u001b[0m\u001b[0;34m\u001b[0m\u001b[0m\n\u001b[1;32m     10\u001b[0m         \u001b[0mf\u001b[0m\u001b[0;34m[\u001b[0m\u001b[0;36m7\u001b[0m\u001b[0;34m:\u001b[0m\u001b[0;34m]\u001b[0m\u001b[0;34m.\u001b[0m\u001b[0mwrite\u001b[0m\u001b[0;34m(\u001b[0m\u001b[0;34m\",\"\u001b[0m\u001b[0;34m.\u001b[0m\u001b[0mjoin\u001b[0m\u001b[0;34m(\u001b[0m\u001b[0mheader\u001b[0m\u001b[0;34m)\u001b[0m \u001b[0;34m+\u001b[0m \u001b[0;34m\"\\n\"\u001b[0m\u001b[0;34m)\u001b[0m \u001b[0;31m# write header\u001b[0m\u001b[0;34m\u001b[0m\u001b[0;34m\u001b[0m\u001b[0m\n",
      "\u001b[0;31mFileNotFoundError\u001b[0m: [Errno 2] No such file or directory: 'cleaned/DataForValidatingModels/Cocoa/Cocoa_mSi0188.csv'"
     ]
    }
   ],
   "source": [
    "#loop over them and create dataframe for each with site number columns\n",
    "for file in all_files:\n",
    "    with open(file, \"r\") as f:\n",
    "        f.readline() # skip line\n",
    "        f.readline() # skip line\n",
    "        lines = f.readlines()\n",
    "\n",
    "    with open(\"cleaned/\" + file, \"w\") as f:\n",
    "        header = lines[0].split(\",\")\n",
    "        f.write(\",\".join(header) + \"\\n\") # write header\n",
    "        for line in lines[1:]:\n",
    "            f.write(\",\".join(line.split(\",\")[:len(header)]) + \"\\n\") # write only labeled columns\n",
    "li = []\n",
    "for file in all_files:\n",
    "    li.append(\"cleaned/\" + file)\n",
    "print(li)\n",
    "df = pd.concat(li)"
   ]
  },
  {
   "cell_type": "code",
   "execution_count": 8,
   "metadata": {},
   "outputs": [],
   "source": [
    "def edit_time(elem):\n",
    "    return elem.split('T')[0]"
   ]
  },
  {
   "cell_type": "code",
   "execution_count": 9,
   "metadata": {},
   "outputs": [
    {
     "ename": "NameError",
     "evalue": "name 'df' is not defined",
     "output_type": "error",
     "traceback": [
      "\u001b[0;31m---------------------------------------------------------------------------\u001b[0m",
      "\u001b[0;31mNameError\u001b[0m                                 Traceback (most recent call last)",
      "\u001b[0;32m<ipython-input-9-718fbbd7bbf2>\u001b[0m in \u001b[0;36m<module>\u001b[0;34m\u001b[0m\n\u001b[0;32m----> 1\u001b[0;31m \u001b[0mdf\u001b[0m\u001b[0;34m[\u001b[0m\u001b[0;34m\"Time Stamp\"\u001b[0m\u001b[0;34m]\u001b[0m \u001b[0;34m=\u001b[0m \u001b[0mdf\u001b[0m\u001b[0;34m[\u001b[0m\u001b[0;34m\"Time Stamp (local standard time) yyyy-mm-ddThh:mm:ss\"\u001b[0m\u001b[0;34m]\u001b[0m\u001b[0;34m.\u001b[0m\u001b[0mapply\u001b[0m\u001b[0;34m(\u001b[0m\u001b[0medit_time\u001b[0m\u001b[0;34m)\u001b[0m\u001b[0;34m\u001b[0m\u001b[0;34m\u001b[0m\u001b[0m\n\u001b[0m",
      "\u001b[0;31mNameError\u001b[0m: name 'df' is not defined"
     ]
    }
   ],
   "source": [
    "df[\"Time Stamp\"] = df[\"Time Stamp (local standard time) yyyy-mm-ddThh:mm:ss\"].apply(edit_time)"
   ]
  },
  {
   "cell_type": "code",
   "execution_count": null,
   "metadata": {},
   "outputs": [],
   "source": [
    "cols = [\"Time Stamp\",\n",
    "        \"POA irradiance CMP22 pyranometer (W/m2)\",\n",
    "        \"Relative humidity (%RH)\",\n",
    "        \"PV module soiling derate\"]\n",
    "df[cols].head()"
   ]
  },
  {
   "cell_type": "code",
   "execution_count": null,
   "metadata": {},
   "outputs": [],
   "source": [
    "df_filtered = df.groupby([\"Time Stamp\"], as_index=False).first()\n",
    "df_filtered[\"Site\"] = \"Eugene\"\n",
    "df_filtered[\"Site Index\"] = 0\n",
    "df_filtered[cols+[\"Site\",\"Site Index\"] ].head()"
   ]
  },
  {
   "cell_type": "code",
   "execution_count": null,
   "metadata": {},
   "outputs": [],
   "source": []
  }
 ],
 "metadata": {
  "kernelspec": {
   "display_name": "Python 3",
   "language": "python",
   "name": "python3"
  },
  "language_info": {
   "codemirror_mode": {
    "name": "ipython",
    "version": 3
   },
   "file_extension": ".py",
   "mimetype": "text/x-python",
   "name": "python",
   "nbconvert_exporter": "python",
   "pygments_lexer": "ipython3",
   "version": "3.7.7"
  }
 },
 "nbformat": 4,
 "nbformat_minor": 4
}
