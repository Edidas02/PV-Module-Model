{
 "cells": [
  {
   "cell_type": "code",
   "execution_count": 2,
   "metadata": {},
   "outputs": [],
   "source": [
    "import numpy as np\n",
    "import pandas as pd\n",
    "import matplotlib.pyplot as plt\n",
    "import sklearn\n",
    "import glob\n",
    "from sklearn import linear_model"
   ]
  },
  {
   "cell_type": "code",
   "execution_count": 57,
   "metadata": {},
   "outputs": [],
   "source": [
    "\"\"\"\n",
    "# raw files\n",
    "paths = [\"DataForValidatingModels/Cocoa/\", \"DataForValidatingModels/Golden/\", \"DataForValidatingModels/Eugene/\"]\n",
    "files = sum([glob.glob(path + \"*.csv\") for path in paths], [])\n",
    "\n",
    "#loop over them and create df for each csv\n",
    "for file in files:\n",
    "    with open(file, \"r\") as f:\n",
    "        f.readline() # skip line\n",
    "        f.readline() # skip line\n",
    "        lines = f.readlines()\n",
    "\n",
    "    with open(\"cleaned/\" + file, \"w\") as f:\n",
    "        header = lines[0].split(\",\")\n",
    "        f.write(\",\".join(header) + \"\\n\") # write header\n",
    "        for line in lines[1:]:\n",
    "            f.write(\",\".join(line.split(\",\")[:len(header)]) + \"\\n\") # write only labeled columns\n",
    "cleaned_files = [\"cleaned/\" + file for file in files]\n",
    "\"\"\""
   ]
  },
  {
   "cell_type": "code",
   "execution_count": 58,
   "metadata": {
    "scrolled": true
   },
   "outputs": [],
   "source": [
    "\"\"\"\n",
    "# create master csv\n",
    "counts, dfs = {\"Cocoa\": 0, \"Eugene\": 0, \"Golden\": 0}, []\n",
    "for file in cleaned_files:\n",
    "    df = pd.read_csv(file)\n",
    "    df[\"Time Stamp\"] = df[\"Time Stamp (local standard time) yyyy-mm-ddThh:mm:ss\"].apply(lambda x : x.split(\"T\")[0])\n",
    "    df_filtered = df.groupby([\"Time Stamp\"], as_index=False).first()\n",
    "    site = file.split(\"/\")[2]\n",
    "    df_filtered[\"Site\"], df_filtered[\"Site Index\"] = site, counts[site]\n",
    "    if(file == \"cleaned/DataForValidatingModels/Cocoa/Cocoa_mSi0166.csv\"):\n",
    "        df_filtered[\"Cleaned\"] = 1\n",
    "    if(file == \"cleaned/DataForValidatingModels/Eugene/Eugene_mSi0166.csv\"):\n",
    "        df_filtered[\"Cleaned\"] = 1\n",
    "    if(file == \"cleaned/DataForValidatingModels/Golden/Golden_mSi0247.csv\"):\n",
    "        df_filtered[\"Cleaned\"] = 1\n",
    "    else:\n",
    "        df_filtered[\"Cleaned\"] = 0\n",
    "    counts[site] += 1\n",
    "    dfs.append(df_filtered)\n",
    "df = pd.concat(dfs)\n",
    "df.to_csv(\"solar-panels.csv\")\n",
    "\"\"\""
   ]
  },
  {
   "cell_type": "code",
   "execution_count": 109,
   "metadata": {},
   "outputs": [
    {
     "data": {
      "text/html": [
       "<div>\n",
       "<style scoped>\n",
       "    .dataframe tbody tr th:only-of-type {\n",
       "        vertical-align: middle;\n",
       "    }\n",
       "\n",
       "    .dataframe tbody tr th {\n",
       "        vertical-align: top;\n",
       "    }\n",
       "\n",
       "    .dataframe thead th {\n",
       "        text-align: right;\n",
       "    }\n",
       "</style>\n",
       "<table border=\"1\" class=\"dataframe\">\n",
       "  <thead>\n",
       "    <tr style=\"text-align: right;\">\n",
       "      <th></th>\n",
       "      <th>Time Stamp</th>\n",
       "      <th>Time Stamp (local standard time) yyyy-mm-ddThh:mm:ss</th>\n",
       "      <th>POA irradiance CMP22 pyranometer (W/m2)</th>\n",
       "      <th>POA irradiance uncertainty (%)</th>\n",
       "      <th>PV module back surface temperature (degC)</th>\n",
       "      <th>PV module back surface temperature uncertainty (degC)</th>\n",
       "      <th>Isc (A)</th>\n",
       "      <th>Isc uncertainty (%)</th>\n",
       "      <th>Pmp (W)</th>\n",
       "      <th>Pmp uncertainty (%)</th>\n",
       "      <th>...</th>\n",
       "      <th>Solar QA residual (W/m2) = Direct*cos(zenith) + Diffuse Horiz. Global Horiz</th>\n",
       "      <th>PV module soiling derate</th>\n",
       "      <th>Daily maintenance start time (hour: minute) - no maintenance that day = 99:99</th>\n",
       "      <th>Daily maintenance end time (hour: minute) - no maintenance that day = 99:99</th>\n",
       "      <th>Precipitation prior to daily maintenance (mm) accumulated daily total</th>\n",
       "      <th>Number of I-V curve data pairs (n)</th>\n",
       "      <th>Site</th>\n",
       "      <th>Site Index</th>\n",
       "      <th>Cleaned</th>\n",
       "      <th>Year-Month</th>\n",
       "    </tr>\n",
       "  </thead>\n",
       "  <tbody>\n",
       "    <tr>\n",
       "      <th>0</th>\n",
       "      <td>2011-01-21</td>\n",
       "      <td>2011-01-21T08:15:03</td>\n",
       "      <td>35.0</td>\n",
       "      <td>10.7</td>\n",
       "      <td>18.9</td>\n",
       "      <td>1.9</td>\n",
       "      <td>0.0986</td>\n",
       "      <td>2.6</td>\n",
       "      <td>1.1342</td>\n",
       "      <td>2.7</td>\n",
       "      <td>...</td>\n",
       "      <td>0.7</td>\n",
       "      <td>1.0</td>\n",
       "      <td>10:48</td>\n",
       "      <td>10:54</td>\n",
       "      <td>24.7</td>\n",
       "      <td>187</td>\n",
       "      <td>Cocoa</td>\n",
       "      <td>0</td>\n",
       "      <td>0</td>\n",
       "      <td>2011-01</td>\n",
       "    </tr>\n",
       "    <tr>\n",
       "      <th>1</th>\n",
       "      <td>2011-01-22</td>\n",
       "      <td>2011-01-22T07:50:03</td>\n",
       "      <td>31.4</td>\n",
       "      <td>20.3</td>\n",
       "      <td>11.4</td>\n",
       "      <td>1.9</td>\n",
       "      <td>0.0846</td>\n",
       "      <td>4.5</td>\n",
       "      <td>0.9863</td>\n",
       "      <td>4.6</td>\n",
       "      <td>...</td>\n",
       "      <td>-9999.0</td>\n",
       "      <td>1.0</td>\n",
       "      <td>99:99</td>\n",
       "      <td>99:99</td>\n",
       "      <td>-9999.0</td>\n",
       "      <td>183</td>\n",
       "      <td>Cocoa</td>\n",
       "      <td>0</td>\n",
       "      <td>0</td>\n",
       "      <td>2011-01</td>\n",
       "    </tr>\n",
       "    <tr>\n",
       "      <th>2</th>\n",
       "      <td>2011-01-24</td>\n",
       "      <td>2011-01-24T07:40:03</td>\n",
       "      <td>21.8</td>\n",
       "      <td>16.8</td>\n",
       "      <td>8.8</td>\n",
       "      <td>1.9</td>\n",
       "      <td>0.0587</td>\n",
       "      <td>7.1</td>\n",
       "      <td>0.6431</td>\n",
       "      <td>7.2</td>\n",
       "      <td>...</td>\n",
       "      <td>0.3</td>\n",
       "      <td>1.0</td>\n",
       "      <td>08:28</td>\n",
       "      <td>08:36</td>\n",
       "      <td>0.0</td>\n",
       "      <td>184</td>\n",
       "      <td>Cocoa</td>\n",
       "      <td>0</td>\n",
       "      <td>0</td>\n",
       "      <td>2011-01</td>\n",
       "    </tr>\n",
       "    <tr>\n",
       "      <th>3</th>\n",
       "      <td>2011-01-25</td>\n",
       "      <td>2011-01-25T07:40:03</td>\n",
       "      <td>21.1</td>\n",
       "      <td>17.1</td>\n",
       "      <td>19.1</td>\n",
       "      <td>1.9</td>\n",
       "      <td>0.0565</td>\n",
       "      <td>4.5</td>\n",
       "      <td>0.5810</td>\n",
       "      <td>4.5</td>\n",
       "      <td>...</td>\n",
       "      <td>0.0</td>\n",
       "      <td>1.0</td>\n",
       "      <td>08:26</td>\n",
       "      <td>08:32</td>\n",
       "      <td>0.0</td>\n",
       "      <td>182</td>\n",
       "      <td>Cocoa</td>\n",
       "      <td>0</td>\n",
       "      <td>0</td>\n",
       "      <td>2011-01</td>\n",
       "    </tr>\n",
       "    <tr>\n",
       "      <th>4</th>\n",
       "      <td>2011-01-26</td>\n",
       "      <td>2011-01-26T08:20:03</td>\n",
       "      <td>20.8</td>\n",
       "      <td>17.5</td>\n",
       "      <td>19.0</td>\n",
       "      <td>1.9</td>\n",
       "      <td>0.0584</td>\n",
       "      <td>4.3</td>\n",
       "      <td>0.6000</td>\n",
       "      <td>4.3</td>\n",
       "      <td>...</td>\n",
       "      <td>0.1</td>\n",
       "      <td>1.0</td>\n",
       "      <td>08:23</td>\n",
       "      <td>08:27</td>\n",
       "      <td>0.2</td>\n",
       "      <td>182</td>\n",
       "      <td>Cocoa</td>\n",
       "      <td>0</td>\n",
       "      <td>0</td>\n",
       "      <td>2011-01</td>\n",
       "    </tr>\n",
       "  </tbody>\n",
       "</table>\n",
       "<p>5 rows × 47 columns</p>\n",
       "</div>"
      ],
      "text/plain": [
       "   Time Stamp Time Stamp (local standard time) yyyy-mm-ddThh:mm:ss  \\\n",
       "0  2011-01-21                                2011-01-21T08:15:03     \n",
       "1  2011-01-22                                2011-01-22T07:50:03     \n",
       "2  2011-01-24                                2011-01-24T07:40:03     \n",
       "3  2011-01-25                                2011-01-25T07:40:03     \n",
       "4  2011-01-26                                2011-01-26T08:20:03     \n",
       "\n",
       "   POA irradiance CMP22 pyranometer (W/m2)  POA irradiance uncertainty (%)  \\\n",
       "0                                     35.0                            10.7   \n",
       "1                                     31.4                            20.3   \n",
       "2                                     21.8                            16.8   \n",
       "3                                     21.1                            17.1   \n",
       "4                                     20.8                            17.5   \n",
       "\n",
       "   PV module back surface temperature (degC)  \\\n",
       "0                                       18.9   \n",
       "1                                       11.4   \n",
       "2                                        8.8   \n",
       "3                                       19.1   \n",
       "4                                       19.0   \n",
       "\n",
       "   PV module back surface temperature uncertainty (degC)  Isc (A)  \\\n",
       "0                                                1.9       0.0986   \n",
       "1                                                1.9       0.0846   \n",
       "2                                                1.9       0.0587   \n",
       "3                                                1.9       0.0565   \n",
       "4                                                1.9       0.0584   \n",
       "\n",
       "   Isc uncertainty (%)  Pmp (W)  Pmp uncertainty (%)  ...  \\\n",
       "0                  2.6   1.1342                  2.7  ...   \n",
       "1                  4.5   0.9863                  4.6  ...   \n",
       "2                  7.1   0.6431                  7.2  ...   \n",
       "3                  4.5   0.5810                  4.5  ...   \n",
       "4                  4.3   0.6000                  4.3  ...   \n",
       "\n",
       "   Solar QA residual (W/m2) = Direct*cos(zenith) + Diffuse Horiz. Global Horiz  \\\n",
       "0                                                0.7                             \n",
       "1                                            -9999.0                             \n",
       "2                                                0.3                             \n",
       "3                                                0.0                             \n",
       "4                                                0.1                             \n",
       "\n",
       "   PV module soiling derate  \\\n",
       "0                       1.0   \n",
       "1                       1.0   \n",
       "2                       1.0   \n",
       "3                       1.0   \n",
       "4                       1.0   \n",
       "\n",
       "   Daily maintenance start time (hour: minute) - no maintenance that day = 99:99  \\\n",
       "0                                              10:48                               \n",
       "1                                              99:99                               \n",
       "2                                              08:28                               \n",
       "3                                              08:26                               \n",
       "4                                              08:23                               \n",
       "\n",
       "   Daily maintenance end time (hour: minute) - no maintenance that day = 99:99  \\\n",
       "0                                              10:54                             \n",
       "1                                              99:99                             \n",
       "2                                              08:36                             \n",
       "3                                              08:32                             \n",
       "4                                              08:27                             \n",
       "\n",
       "   Precipitation prior to daily maintenance (mm) accumulated daily total  \\\n",
       "0                                               24.7                       \n",
       "1                                            -9999.0                       \n",
       "2                                                0.0                       \n",
       "3                                                0.0                       \n",
       "4                                                0.2                       \n",
       "\n",
       "   Number of I-V curve data pairs (n)   Site  Site Index  Cleaned  Year-Month  \n",
       "0                                 187  Cocoa           0        0     2011-01  \n",
       "1                                 183  Cocoa           0        0     2011-01  \n",
       "2                                 184  Cocoa           0        0     2011-01  \n",
       "3                                 182  Cocoa           0        0     2011-01  \n",
       "4                                 182  Cocoa           0        0     2011-01  \n",
       "\n",
       "[5 rows x 47 columns]"
      ]
     },
     "execution_count": 109,
     "metadata": {},
     "output_type": "execute_result"
    }
   ],
   "source": [
    "# read data\n",
    "df = pd.read_csv(\"solar-panels.csv\")\n",
    "del df[\"Unnamed: 0\"]\n",
    "df.head()"
   ]
  },
  {
   "cell_type": "code",
   "execution_count": 72,
   "metadata": {},
   "outputs": [
    {
     "data": {
      "text/plain": [
       "False"
      ]
     },
     "execution_count": 72,
     "metadata": {},
     "output_type": "execute_result"
    }
   ],
   "source": [
    "df_weather = pd.read_csv(\"weather-data.csv\")\n",
    "df_weather[\"Time Stamp\"] = df_weather[\"date_time\"]\n",
    "zip_dict = {32922: \"Cocoa\", 97401: \"Eugene\", 80401: \"Golden\"}\n",
    "df_weather[\"Site\"] = df_weather[\"location\"].apply(lambda x : zip_dict[x])\n",
    "del df_weather[\"date_time\"]; del df_weather[\"location\"]; del df_weather[\"Unnamed: 0\"]\n",
    "df_repeated = pd.concat([df_weather]*11, ignore_index=True)\n",
    "df_repeated\n"
   ]
  },
  {
   "cell_type": "code",
   "execution_count": 131,
   "metadata": {},
   "outputs": [
    {
     "data": {
      "text/plain": [
       "Index(['Time Stamp', 'Time Stamp (local standard time) yyyy-mm-ddThh:mm:ss',\n",
       "       'POA irradiance CMP22 pyranometer (W/m2)',\n",
       "       'POA irradiance uncertainty (%)',\n",
       "       'PV module back surface temperature (degC)',\n",
       "       'PV module back surface temperature uncertainty (degC)', 'Isc (A)',\n",
       "       'Isc uncertainty (%)', 'Pmp (W)', 'Pmp uncertainty (%)', 'Imp (A)',\n",
       "       'Imp uncertainty (%)', 'Vmp (V)', 'Vmp uncertainty (%)', 'Voc (V)',\n",
       "       'Voc uncertainty (%)', 'FF (%FF)', 'FF uncertainty (%)',\n",
       "       'Change in CMP22 during I-V scan +/- W/m2',\n",
       "       'Change in Li-COR during I-V scan +/- W/m2',\n",
       "       'MT5 cabinet temperature (degC)', 'Dry bulb temperature (degC)',\n",
       "       'Dry bulb temperature uncertainty (degC)', 'Relative humidity (%RH)',\n",
       "       'Relative humidity uncertainty (%RH)', 'Atmospheric pressure (mb)',\n",
       "       'Atmospheric pressure uncertainty (%)',\n",
       "       'Precipitation (mm) accumulated daily total',\n",
       "       'Direct normal irradiance (W/m2)',\n",
       "       'Direct normal irradiance uncertainty (%)',\n",
       "       'Direct normal irradiance standard deviation of 1-second samples of 5-second average (W/m2)',\n",
       "       'Global horizontal irradiance (W/m2)',\n",
       "       'Global horizontal irradiance uncertainty (%)',\n",
       "       'Global horizontal irradiance standard deviation of 1-second samples of 5-second average (W/m2)',\n",
       "       'Diffuse horizontal irradiance (W/m2)',\n",
       "       'Diffuse horizontal irradiance uncertainty (%)',\n",
       "       'Diffuse horizontal irradiance standard deviation of 1-second samples of 5-second average (W/m2)',\n",
       "       'Solar QA residual (W/m2) = Direct*cos(zenith) + Diffuse Horiz. Global Horiz',\n",
       "       'PV module soiling derate',\n",
       "       'Daily maintenance start time (hour: minute) - no maintenance that day = 99:99',\n",
       "       'Daily maintenance end time (hour: minute) - no maintenance that day = 99:99',\n",
       "       'Precipitation prior to daily maintenance (mm) accumulated daily total',\n",
       "       'Number of I-V curve data pairs (n)', 'Site', 'Site Index', 'Cleaned',\n",
       "       'Year-Month', 'maxtempC', 'mintempC', 'totalSnow_cm', 'sunHour',\n",
       "       'uvIndex', 'moon_illumination', 'moonrise', 'moonset', 'sunrise',\n",
       "       'sunset', 'DewPointC', 'FeelsLikeC', 'HeatIndexC', 'WindChillC',\n",
       "       'WindGustKmph', 'cloudcover', 'humidity', 'precipMM', 'pressure',\n",
       "       'tempC', 'visibility', 'winddirDegree', 'windspeedKmph'],\n",
       "      dtype='object')"
      ]
     },
     "execution_count": 131,
     "metadata": {},
     "output_type": "execute_result"
    }
   ],
   "source": [
    "df_master = df.merge(df_repeated, how=\"inner\", left_on=[\"Time Stamp\", \"Site\"], right_on=[\"Time Stamp\", \"Site\"], sort=False)\n",
    "df_master\n",
    "df_master.columns\n",
    "#df_master.isnull().values.any()"
   ]
  },
  {
   "cell_type": "code",
   "execution_count": 174,
   "metadata": {},
   "outputs": [],
   "source": [
    "# filter data\n",
    "df2 = df_master[df_master[\"Relative humidity (%RH)\"] != -9999]\n",
    "df3 = df2[df2[\"Pmp (W)\"] < 50]"
   ]
  },
  {
   "cell_type": "code",
   "execution_count": 175,
   "metadata": {},
   "outputs": [],
   "source": [
    "df_cleaned = df3[df3[\"Cleaned\"] == 1]\n",
    "df_dirty = df3[df3[\"Cleaned\"] == 0]"
   ]
  },
  {
   "cell_type": "code",
   "execution_count": 176,
   "metadata": {},
   "outputs": [
    {
     "name": "stderr",
     "output_type": "stream",
     "text": [
      "/Users/edwardxiong/opt/miniconda3/envs/pv-ml/lib/python3.7/site-packages/ipykernel_launcher.py:1: SettingWithCopyWarning: \n",
      "A value is trying to be set on a copy of a slice from a DataFrame.\n",
      "Try using .loc[row_indexer,col_indexer] = value instead\n",
      "\n",
      "See the caveats in the documentation: https://pandas.pydata.org/pandas-docs/stable/user_guide/indexing.html#returning-a-view-versus-a-copy\n",
      "  \"\"\"Entry point for launching an IPython kernel.\n"
     ]
    }
   ],
   "source": [
    "df_dirty[\"Year-Month\"] = df_dirty[\"Time Stamp\"].apply(lambda x : x.split(\"-\")[0] + \"-\" + x.split(\"-\")[1])\n",
    "df_delta = df_dirty.groupby([\"Year-Month\"], as_index=False).first()\n",
    "df_delta[\"Soiling Change\"] = df_dirty.groupby([\"Year-Month\"], as_index=False).min()[\"PV module soiling derate\"] - df_dirty.groupby([\"Year-Month\"], as_index=False).max()[\"PV module soiling derate\"]"
   ]
  },
  {
   "cell_type": "code",
   "execution_count": 177,
   "metadata": {},
   "outputs": [
    {
     "data": {
      "text/plain": [
       "Text(0.5, 1.0, 'Soiling Degradation vs Humidity')"
      ]
     },
     "execution_count": 177,
     "metadata": {},
     "output_type": "execute_result"
    },
    {
     "data": {
      "image/png": "[encoded data removed]",
      "text/plain": [
       "<Figure size 432x288 with 1 Axes>"
      ]
     },
     "metadata": {
      "needs_background": "light"
     },
     "output_type": "display_data"
    }
   ],
   "source": [
    "plt.scatter(df3[\"Relative humidity (%RH)\"], df3[\"PV module soiling derate\"], color=\"black\") \n",
    "plt.xlabel(\"Relative Humidity\"); plt.ylabel(\"Soiling Derate\")\n",
    "plt.title(\"Soiling Degradation vs Humidity\")"
   ]
  },
  {
   "cell_type": "code",
   "execution_count": 178,
   "metadata": {},
   "outputs": [
    {
     "data": {
      "text/plain": [
       "Text(0.5, 1.0, 'Back Temperature Effect on Soiling Degradation')"
      ]
     },
     "execution_count": 178,
     "metadata": {},
     "output_type": "execute_result"
    },
    {
     "data": {
      "image/png": "[encoded data removed]",
      "text/plain": [
       "<Figure size 432x288 with 1 Axes>"
      ]
     },
     "metadata": {
      "needs_background": "light"
     },
     "output_type": "display_data"
    }
   ],
   "source": [
    "plt.scatter(df3[\"PV module soiling derate\"], df3[\"Pmp (W)\"], color=\"black\") \n",
    "plt.xlabel(\"Back Temperature\"); plt.ylabel(\"Soiling Derate\")\n",
    "plt.title(\"Back Temperature Effect on Soiling Degradation\")"
   ]
  },
  {
   "cell_type": "code",
   "execution_count": 185,
   "metadata": {},
   "outputs": [
    {
     "data": {
      "text/plain": [
       "<matplotlib.collections.PathCollection at 0x1a666d0b50>"
      ]
     },
     "execution_count": 185,
     "metadata": {},
     "output_type": "execute_result"
    },
    {
     "data": {
      "image/png": "[encoded data removed]",
      "text/plain": [
       "<Figure size 432x288 with 1 Axes>"
      ]
     },
     "metadata": {
      "needs_background": "light"
     },
     "output_type": "display_data"
    }
   ],
   "source": [
    "plt.scatter(df3[\"tempC\"], df3[\"Pmp (W)\"], color = \"black\")"
   ]
  },
  {
   "cell_type": "code",
   "execution_count": 9,
   "metadata": {},
   "outputs": [
    {
     "name": "stdout",
     "output_type": "stream",
     "text": [
      "count    11286.000000\n",
      "mean      -901.523755\n",
      "std       2980.774222\n",
      "min      -9999.000000\n",
      "25%         51.100000\n",
      "50%         82.000000\n",
      "75%         89.700000\n",
      "max        100.000000\n",
      "Name: Relative humidity (%RH), dtype: float64\n",
      "count    10188.000000\n",
      "mean        74.999058\n",
      "std         21.237882\n",
      "min         10.300000\n",
      "25%         68.875000\n",
      "50%         83.800000\n",
      "75%         90.200000\n",
      "max        100.000000\n",
      "Name: Relative humidity (%RH), dtype: float64\n"
     ]
    },
    {
     "data": {
      "text/plain": [
       "<matplotlib.axes._subplots.AxesSubplot at 0x1a1a654a50>"
      ]
     },
     "execution_count": 9,
     "metadata": {},
     "output_type": "execute_result"
    },
    {
     "data": {
      "image/png": "[encoded data removed]",
      "text/plain": [
       "<Figure size 432x288 with 1 Axes>"
      ]
     },
     "metadata": {
      "needs_background": "light"
     },
     "output_type": "display_data"
    }
   ],
   "source": [
    "print(df[\"Relative humidity (%RH)\"].describe())\n",
    "print(df3[\"Relative humidity (%RH)\"].describe())\n",
    "df3[\"Relative humidity (%RH)\"].hist()"
   ]
  },
  {
   "cell_type": "code",
   "execution_count": 10,
   "metadata": {},
   "outputs": [
    {
     "name": "stdout",
     "output_type": "stream",
     "text": [
      "count    11286.000000\n",
      "mean        12.598627\n",
      "std          7.848526\n",
      "min        -18.900000\n",
      "25%          7.100000\n",
      "50%         13.000000\n",
      "75%         18.500000\n",
      "max         47.700000\n",
      "Name: PV module back surface temperature (degC), dtype: float64\n",
      "count    10188.000000\n",
      "mean        12.600481\n",
      "std          7.817854\n",
      "min        -18.900000\n",
      "25%          7.000000\n",
      "50%         12.800000\n",
      "75%         18.600000\n",
      "max         28.200000\n",
      "Name: PV module back surface temperature (degC), dtype: float64\n"
     ]
    },
    {
     "data": {
      "text/plain": [
       "<matplotlib.axes._subplots.AxesSubplot at 0x1a1a77e3d0>"
      ]
     },
     "execution_count": 10,
     "metadata": {},
     "output_type": "execute_result"
    },
    {
     "data": {
      "image/png": "[encoded data removed]",
      "text/plain": [
       "<Figure size 432x288 with 1 Axes>"
      ]
     },
     "metadata": {
      "needs_background": "light"
     },
     "output_type": "display_data"
    }
   ],
   "source": [
    "print(df[\"PV module back surface temperature (degC)\"].describe())\n",
    "print(df3[\"PV module back surface temperature (degC)\"].describe())\n",
    "df3[\"PV module back surface temperature (degC)\"].hist()"
   ]
  },
  {
   "cell_type": "code",
   "execution_count": 11,
   "metadata": {},
   "outputs": [
    {
     "name": "stdout",
     "output_type": "stream",
     "text": [
      "count    11286.000000\n",
      "mean         0.997620\n",
      "std          0.004866\n",
      "min          0.964000\n",
      "25%          0.995000\n",
      "50%          1.000000\n",
      "75%          1.000000\n",
      "max          1.000000\n",
      "Name: PV module soiling derate, dtype: float64\n",
      "count    10188.000000\n",
      "mean         0.997753\n",
      "std          0.004877\n",
      "min          0.964000\n",
      "25%          1.000000\n",
      "50%          1.000000\n",
      "75%          1.000000\n",
      "max          1.000000\n",
      "Name: PV module soiling derate, dtype: float64\n"
     ]
    },
    {
     "data": {
      "text/plain": [
       "<matplotlib.axes._subplots.AxesSubplot at 0x1a1a736b50>"
      ]
     },
     "execution_count": 11,
     "metadata": {},
     "output_type": "execute_result"
    },
    {
     "data": {
      "image/png": "[encoded data removed]",
      "text/plain": [
       "<Figure size 432x288 with 1 Axes>"
      ]
     },
     "metadata": {
      "needs_background": "light"
     },
     "output_type": "display_data"
    }
   ],
   "source": [
    "print(df[\"PV module soiling derate\"].describe())\n",
    "print(df3[\"PV module soiling derate\"].describe())\n",
    "df3[\"PV module soiling derate\"].hist()"
   ]
  },
  {
   "cell_type": "code",
   "execution_count": 97,
   "metadata": {},
   "outputs": [
    {
     "name": "stdout",
     "output_type": "stream",
     "text": [
      "count    11286.000000\n",
      "mean        44.487852\n",
      "std         39.186134\n",
      "min         20.000000\n",
      "25%         22.800000\n",
      "50%         27.200000\n",
      "75%         57.600000\n",
      "max       1100.600000\n",
      "Name: POA irradiance CMP22 pyranometer (W/m2), dtype: float64\n",
      "count    74250.000000\n",
      "mean        39.877689\n",
      "std         33.766615\n",
      "min         20.000000\n",
      "25%         22.500000\n",
      "50%         25.500000\n",
      "75%         51.500000\n",
      "max        394.600000\n",
      "Name: POA irradiance CMP22 pyranometer (W/m2), dtype: float64\n"
     ]
    },
    {
     "data": {
      "text/plain": [
       "<matplotlib.axes._subplots.AxesSubplot at 0x1a2d78bd50>"
      ]
     },
     "execution_count": 97,
     "metadata": {},
     "output_type": "execute_result"
    },
    {
     "data": {
      "image/png": "[encoded data removed]",
      "text/plain": [
       "<Figure size 432x288 with 1 Axes>"
      ]
     },
     "metadata": {
      "needs_background": "light"
     },
     "output_type": "display_data"
    }
   ],
   "source": [
    "print(df[\"POA irradiance CMP22 pyranometer (W/m2)\"].describe())\n",
    "print(df3[\"POA irradiance CMP22 pyranometer (W/m2)\"].describe())\n",
    "df3[\"POA irradiance CMP22 pyranometer (W/m2)\"].hist()"
   ]
  },
  {
   "cell_type": "code",
   "execution_count": 188,
   "metadata": {},
   "outputs": [
    {
     "name": "stdout",
     "output_type": "stream",
     "text": [
      "mean squared error 4.371461277174653\n",
      "coefficients [[ 0.00583531  0.02270708 -0.03015749  0.00021739  0.05902834  0.04495098\n",
      "   0.00307717]]\n"
     ]
    }
   ],
   "source": [
    "# create basic regression model\n",
    "x_vars = [\"humidity\", \"PV module back surface temperature (degC)\", \"tempC\", \"windspeedKmph\", \"POA irradiance CMP22 pyranometer (W/m2)\", \"sunHour\", \"cloudcover\"]\n",
    "y_var = [\"Pmp (W)\"]\n",
    "simple_reg = sklearn.linear_model.LinearRegression(normalize=True)\n",
    "simple_reg.fit(df3.loc[:, x_vars], df3.loc[:, y_var])\n",
    "\n",
    "# predictions\n",
    "pred = simple_reg.predict(df3.loc[:, x_vars])\n",
    "print(\"mean squared error\", sklearn.metrics.mean_squared_error(pred, df3.loc[:, y_var]))\n",
    "print(\"coefficients\", simple_reg.coef_)"
   ]
  },
  {
   "cell_type": "code",
   "execution_count": 189,
   "metadata": {},
   "outputs": [
    {
     "name": "stdout",
     "output_type": "stream",
     "text": [
      "mean squared error 4.371461277174653\n",
      "R2 score 0.46827448579311115\n",
      "coefficients [[ 0.00583531  0.02270708 -0.03015749  0.00021739  0.05902834  0.04495098\n",
      "   0.00307717]]\n"
     ]
    }
   ],
   "source": [
    "# create basic regression model\n",
    "simple_reg = sklearn.linear_model.LinearRegression(normalize=True)\n",
    "simple_reg.fit(df3.loc[:, x_vars], df3.loc[:, y_var])\n",
    "\n",
    "# predictions\n",
    "pred = simple_reg.predict(df3.loc[:, x_vars])\n",
    "print(\"mean squared error\", sklearn.metrics.mean_squared_error(pred, df3.loc[:, y_var]))\n",
    "print(\"R2 score\", sklearn.metrics.r2_score(df3.loc[:, y_var], pred))\n",
    "print(\"coefficients\", simple_reg.coef_)"
   ]
  },
  {
   "cell_type": "code",
   "execution_count": 24,
   "metadata": {},
   "outputs": [
    {
     "name": "stdout",
     "output_type": "stream",
     "text": [
      "mean squared error 0.0\n",
      "R2 score 1.0\n",
      "coefficients [[0. 0.]]\n"
     ]
    }
   ],
   "source": [
    "# create basic regression model\n",
    "simple_reg = sklearn.linear_model.LinearRegression(normalize=True)\n",
    "simple_reg.fit(df_cleaned.loc[:, x_vars], df_cleaned.loc[:, y_var])\n",
    "\n",
    "# predictions\n",
    "pred = simple_reg.predict(df_cleaned.loc[:, x_vars])\n",
    "print(\"mean squared error\", sklearn.metrics.mean_squared_error(pred, df_cleaned.loc[:, y_var]))\n",
    "print(\"R2 score\", sklearn.metrics.r2_score(pred, df_cleaned.loc[:, y_var]))\n",
    "print(\"coefficients\", simple_reg.coef_)\n"
   ]
  },
  {
   "cell_type": "code",
   "execution_count": null,
   "metadata": {},
   "outputs": [],
   "source": []
  }
 ],
 "metadata": {
  "kernelspec": {
   "display_name": "Python 3",
   "language": "python",
   "name": "python3"
  },
  "language_info": {
   "codemirror_mode": {
    "name": "ipython",
    "version": 3
   },
   "file_extension": ".py",
   "mimetype": "text/x-python",
   "name": "python",
   "nbconvert_exporter": "python",
   "pygments_lexer": "ipython3",
   "version": "3.7.7"
  }
 },
 "nbformat": 4,
 "nbformat_minor": 4
}
