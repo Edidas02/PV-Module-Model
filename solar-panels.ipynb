{
 "cells": [
  {
   "cell_type": "code",
   "execution_count": 1,
   "metadata": {},
   "outputs": [],
   "source": [
    "import numpy as np\n",
    "import pandas as pd\n",
    "import os\n",
    "import matplotlib.pyplot as plt\n",
    "import sklearn\n",
    "from sklearn import datasets, linear_model\n",
    "import glob"
   ]
  },
  {
   "cell_type": "code",
   "execution_count": 19,
   "metadata": {},
   "outputs": [
    {
     "name": "stdout",
     "output_type": "stream",
     "text": [
      "['DataForValidatingModels/Cocoa/Cocoa_mSi0188.csv', 'DataForValidatingModels/Cocoa/Cocoa_mSi0166.csv', 'DataForValidatingModels/Cocoa/Cocoa_xSi12922.csv', 'DataForValidatingModels/Cocoa/Cocoa_aSiMicro03036.csv', 'DataForValidatingModels/Cocoa/Cocoa_HIT05667.csv', 'DataForValidatingModels/Cocoa/Cocoa_CdTe75638.csv', 'DataForValidatingModels/Cocoa/Cocoa_CIGS8-001.csv', 'DataForValidatingModels/Cocoa/Cocoa_aSiTandem72-46.csv', 'DataForValidatingModels/Cocoa/Cocoa_aSiTriple28324.csv', 'DataForValidatingModels/Cocoa/Cocoa_CIGS39017.csv', 'DataForValidatingModels/Cocoa/Cocoa_mSi460A8.csv', 'DataForValidatingModels/Eugene/Eugene_HIT05667.csv', 'DataForValidatingModels/Eugene/Eugene_xSi12922.csv', 'DataForValidatingModels/Eugene/Eugene_aSiMicro03036.csv', 'DataForValidatingModels/Eugene/Eugene_aSiTriple28324.csv', 'DataForValidatingModels/Eugene/Eugene_CIGS8-001.csv', 'DataForValidatingModels/Eugene/Eugene_CdTe75638.csv', 'DataForValidatingModels/Eugene/Eugene_mSi0188.csv', 'DataForValidatingModels/Eugene/Eugene_CIGS39017.csv', 'DataForValidatingModels/Eugene/Eugene_aSiTandem72-46.csv', 'DataForValidatingModels/Eugene/Eugene_mSi0166.csv', 'DataForValidatingModels/Eugene/Eugene_mSi460A8.csv', 'DataForValidatingModels/Golden/Golden_xSi11246.csv', 'DataForValidatingModels/Golden/Golden_CIGS39013.csv', 'DataForValidatingModels/Golden/Golden_aSiTandem90-31.csv', 'DataForValidatingModels/Golden/Golden_mSi0251.csv', 'DataForValidatingModels/Golden/Golden_mSi0247.csv', 'DataForValidatingModels/Golden/Golden_HIT05662.csv', 'DataForValidatingModels/Golden/Golden_CIGS1-001.csv', 'DataForValidatingModels/Golden/Golden_aSiTriple28325.csv', 'DataForValidatingModels/Golden/Golden_aSiMicro03038.csv', 'DataForValidatingModels/Golden/Golden_mSi460BB.csv', 'DataForValidatingModels/Golden/Golden_CdTe75669.csv']\n"
     ]
    },
    {
     "data": {
      "text/plain": [
       "'print(eug_files)\\nprint(coc_files)\\nprint(gold_files)'"
      ]
     },
     "execution_count": 19,
     "metadata": {},
     "output_type": "execute_result"
    }
   ],
   "source": [
    "path_e = \"DataForValidatingModels/Eugene\"\n",
    "path_c = \"DataForValidatingModels/Cocoa\"\n",
    "path_g = \"DataForValidatingModels/Golden\"\n",
    "eug_files = glob.glob(path_e + '/*.csv')\n",
    "coc_files = glob.glob(path_c + '/*.csv')\n",
    "gold_files = glob.glob(path_g + '/*.csv')\n",
    "all_files = coc_files + eug_files + gold_files\n",
    "print(all_files)\n",
    "#repeat for 3 and put them together\n",
    "'''print(eug_files)\n",
    "print(coc_files)\n",
    "print(gold_files)'''"
   ]
  },
  {
   "cell_type": "code",
   "execution_count": 9,
   "metadata": {},
   "outputs": [],
   "source": [
    "#loop over them and create dataframe for each with site number columns\n",
    "for file in all_files:\n",
    "    with open(file, \"r\") as f:\n",
    "        f.readline() # skip line\n",
    "        f.readline() # skip line\n",
    "        lines = f.readlines()\n",
    "\n",
    "    with open(\"cleaned/\" + file, \"w\") as f:\n",
    "        header = lines[0].split(\",\")\n",
    "        f.write(\",\".join(header) + \"\\n\") # write header\n",
    "        for line in lines[1:]:\n",
    "            f.write(\",\".join(line.split(\",\")[:len(header)]) + \"\\n\") # write only labeled columns\n",
    "li = []\n",
    "for file in all_files:\n",
    "    li.append(\"cleaned/\" + file)"
   ]
  },
  {
   "cell_type": "code",
   "execution_count": 12,
   "metadata": {},
   "outputs": [],
   "source": [
    "def edit_time(elem):\n",
    "    return elem.split('T')[0]\n",
    "\n",
    "cols = [\"Time Stamp\",\n",
    "        \"POA irradiance CMP22 pyranometer (W/m2)\",\n",
    "        \"Relative humidity (%RH)\",\n",
    "        \"PV module soiling derate\"]"
   ]
  },
  {
   "cell_type": "code",
   "execution_count": 25,
   "metadata": {},
   "outputs": [],
   "source": [
    "counts = {\"Cocoa\": 0, \"Eugene\": 0, \"Golden\": 0}\n",
    "dfs = []\n",
    "for file in li:\n",
    "    df = pd.read_csv(file)\n",
    "    df[\"Time Stamp\"] = df[\"Time Stamp (local standard time) yyyy-mm-ddThh:mm:ss\"].apply(edit_time)\n",
    "    df_filtered = df.groupby([\"Time Stamp\"], as_index=False).first()\n",
    "    site = file.split('/')[2]\n",
    "    df_filtered[\"Site\"] = site\n",
    "    df_filtered[\"Site Index\"] = counts[site]\n",
    "    if (file == \"cleaned/DataForValidatingModels/Cocoa/Cocoa_mSi0166.csv\") or (file == \"cleaned/DataForValidatingModels/Eugene/Eugene_mSi0166.csv\") or (file == \"cleaned/DataForValidatingModels/Golden/Golden_mSi0247.csv\"):\n",
    "        df_filtered[\"Cleaned\"] = 1\n",
    "    else:\n",
    "        df_filtered[\"Cleaned\"] = 0\n",
    "    counts[site] += 1\n",
    "    dfs.append(df_filtered)\n",
    "    \n",
    "df = pd.concat(dfs)"
   ]
  },
  {
   "cell_type": "code",
   "execution_count": 22,
   "metadata": {},
   "outputs": [],
   "source": [
    "df.to_csv(\"master.csv\")"
   ]
  },
  {
   "cell_type": "code",
   "execution_count": 28,
   "metadata": {},
   "outputs": [
    {
     "data": {
      "text/html": [
       "<div>\n",
       "<style scoped>\n",
       "    .dataframe tbody tr th:only-of-type {\n",
       "        vertical-align: middle;\n",
       "    }\n",
       "\n",
       "    .dataframe tbody tr th {\n",
       "        vertical-align: top;\n",
       "    }\n",
       "\n",
       "    .dataframe thead th {\n",
       "        text-align: right;\n",
       "    }\n",
       "</style>\n",
       "<table border=\"1\" class=\"dataframe\">\n",
       "  <thead>\n",
       "    <tr style=\"text-align: right;\">\n",
       "      <th></th>\n",
       "      <th>Unnamed: 0</th>\n",
       "      <th>Time Stamp</th>\n",
       "      <th>Time Stamp (local standard time) yyyy-mm-ddThh:mm:ss</th>\n",
       "      <th>POA irradiance CMP22 pyranometer (W/m2)</th>\n",
       "      <th>POA irradiance uncertainty (%)</th>\n",
       "      <th>PV module back surface temperature (degC)</th>\n",
       "      <th>PV module back surface temperature uncertainty (degC)</th>\n",
       "      <th>Isc (A)</th>\n",
       "      <th>Isc uncertainty (%)</th>\n",
       "      <th>Pmp (W)</th>\n",
       "      <th>...</th>\n",
       "      <th>Diffuse horizontal irradiance standard deviation of 1-second samples of 5-second average (W/m2)</th>\n",
       "      <th>Solar QA residual (W/m2) = Direct*cos(zenith) + Diffuse Horiz. Global Horiz</th>\n",
       "      <th>PV module soiling derate</th>\n",
       "      <th>Daily maintenance start time (hour: minute) - no maintenance that day = 99:99</th>\n",
       "      <th>Daily maintenance end time (hour: minute) - no maintenance that day = 99:99</th>\n",
       "      <th>Precipitation prior to daily maintenance (mm) accumulated daily total</th>\n",
       "      <th>Number of I-V curve data pairs (n)</th>\n",
       "      <th>Site</th>\n",
       "      <th>Site Index</th>\n",
       "      <th>Cleaned</th>\n",
       "    </tr>\n",
       "  </thead>\n",
       "  <tbody>\n",
       "    <tr>\n",
       "      <th>0</th>\n",
       "      <td>0</td>\n",
       "      <td>2011-01-21</td>\n",
       "      <td>2011-01-21T08:15:03</td>\n",
       "      <td>35.0</td>\n",
       "      <td>10.7</td>\n",
       "      <td>18.9</td>\n",
       "      <td>1.9</td>\n",
       "      <td>0.0986</td>\n",
       "      <td>2.6</td>\n",
       "      <td>1.1342</td>\n",
       "      <td>...</td>\n",
       "      <td>0.1</td>\n",
       "      <td>0.7</td>\n",
       "      <td>1.0</td>\n",
       "      <td>10:48</td>\n",
       "      <td>10:54</td>\n",
       "      <td>24.7</td>\n",
       "      <td>187</td>\n",
       "      <td>Cocoa</td>\n",
       "      <td>0</td>\n",
       "      <td>0</td>\n",
       "    </tr>\n",
       "    <tr>\n",
       "      <th>1</th>\n",
       "      <td>1</td>\n",
       "      <td>2011-01-22</td>\n",
       "      <td>2011-01-22T07:50:03</td>\n",
       "      <td>31.4</td>\n",
       "      <td>20.3</td>\n",
       "      <td>11.4</td>\n",
       "      <td>1.9</td>\n",
       "      <td>0.0846</td>\n",
       "      <td>4.5</td>\n",
       "      <td>0.9863</td>\n",
       "      <td>...</td>\n",
       "      <td>-9999.0</td>\n",
       "      <td>-9999.0</td>\n",
       "      <td>1.0</td>\n",
       "      <td>99:99</td>\n",
       "      <td>99:99</td>\n",
       "      <td>-9999.0</td>\n",
       "      <td>183</td>\n",
       "      <td>Cocoa</td>\n",
       "      <td>0</td>\n",
       "      <td>0</td>\n",
       "    </tr>\n",
       "    <tr>\n",
       "      <th>2</th>\n",
       "      <td>2</td>\n",
       "      <td>2011-01-24</td>\n",
       "      <td>2011-01-24T07:40:03</td>\n",
       "      <td>21.8</td>\n",
       "      <td>16.8</td>\n",
       "      <td>8.8</td>\n",
       "      <td>1.9</td>\n",
       "      <td>0.0587</td>\n",
       "      <td>7.1</td>\n",
       "      <td>0.6431</td>\n",
       "      <td>...</td>\n",
       "      <td>0.3</td>\n",
       "      <td>0.3</td>\n",
       "      <td>1.0</td>\n",
       "      <td>08:28</td>\n",
       "      <td>08:36</td>\n",
       "      <td>0.0</td>\n",
       "      <td>184</td>\n",
       "      <td>Cocoa</td>\n",
       "      <td>0</td>\n",
       "      <td>0</td>\n",
       "    </tr>\n",
       "    <tr>\n",
       "      <th>3</th>\n",
       "      <td>3</td>\n",
       "      <td>2011-01-25</td>\n",
       "      <td>2011-01-25T07:40:03</td>\n",
       "      <td>21.1</td>\n",
       "      <td>17.1</td>\n",
       "      <td>19.1</td>\n",
       "      <td>1.9</td>\n",
       "      <td>0.0565</td>\n",
       "      <td>4.5</td>\n",
       "      <td>0.5810</td>\n",
       "      <td>...</td>\n",
       "      <td>0.0</td>\n",
       "      <td>0.0</td>\n",
       "      <td>1.0</td>\n",
       "      <td>08:26</td>\n",
       "      <td>08:32</td>\n",
       "      <td>0.0</td>\n",
       "      <td>182</td>\n",
       "      <td>Cocoa</td>\n",
       "      <td>0</td>\n",
       "      <td>0</td>\n",
       "    </tr>\n",
       "    <tr>\n",
       "      <th>4</th>\n",
       "      <td>4</td>\n",
       "      <td>2011-01-26</td>\n",
       "      <td>2011-01-26T08:20:03</td>\n",
       "      <td>20.8</td>\n",
       "      <td>17.5</td>\n",
       "      <td>19.0</td>\n",
       "      <td>1.9</td>\n",
       "      <td>0.0584</td>\n",
       "      <td>4.3</td>\n",
       "      <td>0.6000</td>\n",
       "      <td>...</td>\n",
       "      <td>0.2</td>\n",
       "      <td>0.1</td>\n",
       "      <td>1.0</td>\n",
       "      <td>08:23</td>\n",
       "      <td>08:27</td>\n",
       "      <td>0.2</td>\n",
       "      <td>182</td>\n",
       "      <td>Cocoa</td>\n",
       "      <td>0</td>\n",
       "      <td>0</td>\n",
       "    </tr>\n",
       "    <tr>\n",
       "      <th>...</th>\n",
       "      <td>...</td>\n",
       "      <td>...</td>\n",
       "      <td>...</td>\n",
       "      <td>...</td>\n",
       "      <td>...</td>\n",
       "      <td>...</td>\n",
       "      <td>...</td>\n",
       "      <td>...</td>\n",
       "      <td>...</td>\n",
       "      <td>...</td>\n",
       "      <td>...</td>\n",
       "      <td>...</td>\n",
       "      <td>...</td>\n",
       "      <td>...</td>\n",
       "      <td>...</td>\n",
       "      <td>...</td>\n",
       "      <td>...</td>\n",
       "      <td>...</td>\n",
       "      <td>...</td>\n",
       "      <td>...</td>\n",
       "      <td>...</td>\n",
       "    </tr>\n",
       "    <tr>\n",
       "      <th>11281</th>\n",
       "      <td>324</td>\n",
       "      <td>2013-09-19</td>\n",
       "      <td>2013-09-19T06:15:56</td>\n",
       "      <td>63.6</td>\n",
       "      <td>9.0</td>\n",
       "      <td>9.9</td>\n",
       "      <td>1.9</td>\n",
       "      <td>0.0474</td>\n",
       "      <td>2.0</td>\n",
       "      <td>1.6660</td>\n",
       "      <td>...</td>\n",
       "      <td>-9999.0</td>\n",
       "      <td>34.0</td>\n",
       "      <td>1.0</td>\n",
       "      <td>06:52</td>\n",
       "      <td>06:56</td>\n",
       "      <td>0.0</td>\n",
       "      <td>189</td>\n",
       "      <td>Golden</td>\n",
       "      <td>10</td>\n",
       "      <td>0</td>\n",
       "    </tr>\n",
       "    <tr>\n",
       "      <th>11282</th>\n",
       "      <td>325</td>\n",
       "      <td>2013-09-21</td>\n",
       "      <td>2013-09-21T06:15:56</td>\n",
       "      <td>67.4</td>\n",
       "      <td>9.5</td>\n",
       "      <td>13.8</td>\n",
       "      <td>1.9</td>\n",
       "      <td>0.0464</td>\n",
       "      <td>1.6</td>\n",
       "      <td>1.5028</td>\n",
       "      <td>...</td>\n",
       "      <td>-9999.0</td>\n",
       "      <td>42.0</td>\n",
       "      <td>1.0</td>\n",
       "      <td>99:99</td>\n",
       "      <td>99:99</td>\n",
       "      <td>-9999.0</td>\n",
       "      <td>189</td>\n",
       "      <td>Golden</td>\n",
       "      <td>10</td>\n",
       "      <td>0</td>\n",
       "    </tr>\n",
       "    <tr>\n",
       "      <th>11283</th>\n",
       "      <td>326</td>\n",
       "      <td>2013-09-22</td>\n",
       "      <td>2013-09-22T06:15:56</td>\n",
       "      <td>65.2</td>\n",
       "      <td>9.3</td>\n",
       "      <td>16.5</td>\n",
       "      <td>1.9</td>\n",
       "      <td>0.0466</td>\n",
       "      <td>1.6</td>\n",
       "      <td>1.5402</td>\n",
       "      <td>...</td>\n",
       "      <td>-9999.0</td>\n",
       "      <td>-9999.0</td>\n",
       "      <td>1.0</td>\n",
       "      <td>99:99</td>\n",
       "      <td>99:99</td>\n",
       "      <td>-9999.0</td>\n",
       "      <td>188</td>\n",
       "      <td>Golden</td>\n",
       "      <td>10</td>\n",
       "      <td>0</td>\n",
       "    </tr>\n",
       "    <tr>\n",
       "      <th>11284</th>\n",
       "      <td>327</td>\n",
       "      <td>2013-09-23</td>\n",
       "      <td>2013-09-23T07:00:56</td>\n",
       "      <td>79.5</td>\n",
       "      <td>5.8</td>\n",
       "      <td>15.1</td>\n",
       "      <td>1.9</td>\n",
       "      <td>0.0904</td>\n",
       "      <td>0.9</td>\n",
       "      <td>4.2498</td>\n",
       "      <td>...</td>\n",
       "      <td>-9999.0</td>\n",
       "      <td>-0.5</td>\n",
       "      <td>1.0</td>\n",
       "      <td>07:02</td>\n",
       "      <td>07:05</td>\n",
       "      <td>6.4</td>\n",
       "      <td>188</td>\n",
       "      <td>Golden</td>\n",
       "      <td>10</td>\n",
       "      <td>0</td>\n",
       "    </tr>\n",
       "    <tr>\n",
       "      <th>11285</th>\n",
       "      <td>328</td>\n",
       "      <td>2013-09-24</td>\n",
       "      <td>2013-09-24T06:15:55</td>\n",
       "      <td>78.2</td>\n",
       "      <td>8.6</td>\n",
       "      <td>11.5</td>\n",
       "      <td>1.9</td>\n",
       "      <td>0.0544</td>\n",
       "      <td>1.4</td>\n",
       "      <td>1.9113</td>\n",
       "      <td>...</td>\n",
       "      <td>-9999.0</td>\n",
       "      <td>39.0</td>\n",
       "      <td>1.0</td>\n",
       "      <td>06:50</td>\n",
       "      <td>06:53</td>\n",
       "      <td>0.0</td>\n",
       "      <td>187</td>\n",
       "      <td>Golden</td>\n",
       "      <td>10</td>\n",
       "      <td>0</td>\n",
       "    </tr>\n",
       "  </tbody>\n",
       "</table>\n",
       "<p>11286 rows × 47 columns</p>\n",
       "</div>"
      ],
      "text/plain": [
       "       Unnamed: 0  Time Stamp  \\\n",
       "0               0  2011-01-21   \n",
       "1               1  2011-01-22   \n",
       "2               2  2011-01-24   \n",
       "3               3  2011-01-25   \n",
       "4               4  2011-01-26   \n",
       "...           ...         ...   \n",
       "11281         324  2013-09-19   \n",
       "11282         325  2013-09-21   \n",
       "11283         326  2013-09-22   \n",
       "11284         327  2013-09-23   \n",
       "11285         328  2013-09-24   \n",
       "\n",
       "      Time Stamp (local standard time) yyyy-mm-ddThh:mm:ss  \\\n",
       "0                                    2011-01-21T08:15:03     \n",
       "1                                    2011-01-22T07:50:03     \n",
       "2                                    2011-01-24T07:40:03     \n",
       "3                                    2011-01-25T07:40:03     \n",
       "4                                    2011-01-26T08:20:03     \n",
       "...                                                  ...     \n",
       "11281                                2013-09-19T06:15:56     \n",
       "11282                                2013-09-21T06:15:56     \n",
       "11283                                2013-09-22T06:15:56     \n",
       "11284                                2013-09-23T07:00:56     \n",
       "11285                                2013-09-24T06:15:55     \n",
       "\n",
       "       POA irradiance CMP22 pyranometer (W/m2)  \\\n",
       "0                                         35.0   \n",
       "1                                         31.4   \n",
       "2                                         21.8   \n",
       "3                                         21.1   \n",
       "4                                         20.8   \n",
       "...                                        ...   \n",
       "11281                                     63.6   \n",
       "11282                                     67.4   \n",
       "11283                                     65.2   \n",
       "11284                                     79.5   \n",
       "11285                                     78.2   \n",
       "\n",
       "       POA irradiance uncertainty (%)  \\\n",
       "0                                10.7   \n",
       "1                                20.3   \n",
       "2                                16.8   \n",
       "3                                17.1   \n",
       "4                                17.5   \n",
       "...                               ...   \n",
       "11281                             9.0   \n",
       "11282                             9.5   \n",
       "11283                             9.3   \n",
       "11284                             5.8   \n",
       "11285                             8.6   \n",
       "\n",
       "       PV module back surface temperature (degC)  \\\n",
       "0                                           18.9   \n",
       "1                                           11.4   \n",
       "2                                            8.8   \n",
       "3                                           19.1   \n",
       "4                                           19.0   \n",
       "...                                          ...   \n",
       "11281                                        9.9   \n",
       "11282                                       13.8   \n",
       "11283                                       16.5   \n",
       "11284                                       15.1   \n",
       "11285                                       11.5   \n",
       "\n",
       "       PV module back surface temperature uncertainty (degC)  Isc (A)  \\\n",
       "0                                                    1.9       0.0986   \n",
       "1                                                    1.9       0.0846   \n",
       "2                                                    1.9       0.0587   \n",
       "3                                                    1.9       0.0565   \n",
       "4                                                    1.9       0.0584   \n",
       "...                                                  ...          ...   \n",
       "11281                                                1.9       0.0474   \n",
       "11282                                                1.9       0.0464   \n",
       "11283                                                1.9       0.0466   \n",
       "11284                                                1.9       0.0904   \n",
       "11285                                                1.9       0.0544   \n",
       "\n",
       "       Isc uncertainty (%)  Pmp (W)  ...  \\\n",
       "0                      2.6   1.1342  ...   \n",
       "1                      4.5   0.9863  ...   \n",
       "2                      7.1   0.6431  ...   \n",
       "3                      4.5   0.5810  ...   \n",
       "4                      4.3   0.6000  ...   \n",
       "...                    ...      ...  ...   \n",
       "11281                  2.0   1.6660  ...   \n",
       "11282                  1.6   1.5028  ...   \n",
       "11283                  1.6   1.5402  ...   \n",
       "11284                  0.9   4.2498  ...   \n",
       "11285                  1.4   1.9113  ...   \n",
       "\n",
       "       Diffuse horizontal irradiance standard deviation of 1-second samples of 5-second average (W/m2)  \\\n",
       "0                                                    0.1                                                 \n",
       "1                                                -9999.0                                                 \n",
       "2                                                    0.3                                                 \n",
       "3                                                    0.0                                                 \n",
       "4                                                    0.2                                                 \n",
       "...                                                  ...                                                 \n",
       "11281                                            -9999.0                                                 \n",
       "11282                                            -9999.0                                                 \n",
       "11283                                            -9999.0                                                 \n",
       "11284                                            -9999.0                                                 \n",
       "11285                                            -9999.0                                                 \n",
       "\n",
       "       Solar QA residual (W/m2) = Direct*cos(zenith) + Diffuse Horiz. Global Horiz  \\\n",
       "0                                                    0.7                             \n",
       "1                                                -9999.0                             \n",
       "2                                                    0.3                             \n",
       "3                                                    0.0                             \n",
       "4                                                    0.1                             \n",
       "...                                                  ...                             \n",
       "11281                                               34.0                             \n",
       "11282                                               42.0                             \n",
       "11283                                            -9999.0                             \n",
       "11284                                               -0.5                             \n",
       "11285                                               39.0                             \n",
       "\n",
       "       PV module soiling derate  \\\n",
       "0                           1.0   \n",
       "1                           1.0   \n",
       "2                           1.0   \n",
       "3                           1.0   \n",
       "4                           1.0   \n",
       "...                         ...   \n",
       "11281                       1.0   \n",
       "11282                       1.0   \n",
       "11283                       1.0   \n",
       "11284                       1.0   \n",
       "11285                       1.0   \n",
       "\n",
       "       Daily maintenance start time (hour: minute) - no maintenance that day = 99:99  \\\n",
       "0                                                  10:48                               \n",
       "1                                                  99:99                               \n",
       "2                                                  08:28                               \n",
       "3                                                  08:26                               \n",
       "4                                                  08:23                               \n",
       "...                                                  ...                               \n",
       "11281                                              06:52                               \n",
       "11282                                              99:99                               \n",
       "11283                                              99:99                               \n",
       "11284                                              07:02                               \n",
       "11285                                              06:50                               \n",
       "\n",
       "       Daily maintenance end time (hour: minute) - no maintenance that day = 99:99  \\\n",
       "0                                                  10:54                             \n",
       "1                                                  99:99                             \n",
       "2                                                  08:36                             \n",
       "3                                                  08:32                             \n",
       "4                                                  08:27                             \n",
       "...                                                  ...                             \n",
       "11281                                              06:56                             \n",
       "11282                                              99:99                             \n",
       "11283                                              99:99                             \n",
       "11284                                              07:05                             \n",
       "11285                                              06:53                             \n",
       "\n",
       "       Precipitation prior to daily maintenance (mm) accumulated daily total  \\\n",
       "0                                                   24.7                       \n",
       "1                                                -9999.0                       \n",
       "2                                                    0.0                       \n",
       "3                                                    0.0                       \n",
       "4                                                    0.2                       \n",
       "...                                                  ...                       \n",
       "11281                                                0.0                       \n",
       "11282                                            -9999.0                       \n",
       "11283                                            -9999.0                       \n",
       "11284                                                6.4                       \n",
       "11285                                                0.0                       \n",
       "\n",
       "       Number of I-V curve data pairs (n)    Site  Site Index  Cleaned  \n",
       "0                                     187   Cocoa           0        0  \n",
       "1                                     183   Cocoa           0        0  \n",
       "2                                     184   Cocoa           0        0  \n",
       "3                                     182   Cocoa           0        0  \n",
       "4                                     182   Cocoa           0        0  \n",
       "...                                   ...     ...         ...      ...  \n",
       "11281                                 189  Golden          10        0  \n",
       "11282                                 189  Golden          10        0  \n",
       "11283                                 188  Golden          10        0  \n",
       "11284                                 188  Golden          10        0  \n",
       "11285                                 187  Golden          10        0  \n",
       "\n",
       "[11286 rows x 47 columns]"
      ]
     },
     "metadata": {},
     "output_type": "display_data"
    }
   ],
   "source": [
    "#display(pd.read_csv(\"master.csv\"))"
   ]
  },
  {
   "cell_type": "code",
   "execution_count": 11,
   "metadata": {},
   "outputs": [
    {
     "data": {
      "text/html": [
       "<div>\n",
       "<style scoped>\n",
       "    .dataframe tbody tr th:only-of-type {\n",
       "        vertical-align: middle;\n",
       "    }\n",
       "\n",
       "    .dataframe tbody tr th {\n",
       "        vertical-align: top;\n",
       "    }\n",
       "\n",
       "    .dataframe thead th {\n",
       "        text-align: right;\n",
       "    }\n",
       "</style>\n",
       "<table border=\"1\" class=\"dataframe\">\n",
       "  <thead>\n",
       "    <tr style=\"text-align: right;\">\n",
       "      <th></th>\n",
       "      <th>Time Stamp</th>\n",
       "      <th>POA irradiance CMP22 pyranometer (W/m2)</th>\n",
       "      <th>Relative humidity (%RH)</th>\n",
       "      <th>PV module soiling derate</th>\n",
       "      <th>Site</th>\n",
       "      <th>Site Index</th>\n",
       "    </tr>\n",
       "  </thead>\n",
       "  <tbody>\n",
       "    <tr>\n",
       "      <th>0</th>\n",
       "      <td>2011-01-21</td>\n",
       "      <td>35.0</td>\n",
       "      <td>96.0</td>\n",
       "      <td>1.0</td>\n",
       "      <td>Cocoa</td>\n",
       "      <td>0</td>\n",
       "    </tr>\n",
       "    <tr>\n",
       "      <th>1</th>\n",
       "      <td>2011-01-22</td>\n",
       "      <td>31.4</td>\n",
       "      <td>-9999.0</td>\n",
       "      <td>1.0</td>\n",
       "      <td>Cocoa</td>\n",
       "      <td>0</td>\n",
       "    </tr>\n",
       "    <tr>\n",
       "      <th>2</th>\n",
       "      <td>2011-01-24</td>\n",
       "      <td>21.8</td>\n",
       "      <td>82.0</td>\n",
       "      <td>1.0</td>\n",
       "      <td>Cocoa</td>\n",
       "      <td>0</td>\n",
       "    </tr>\n",
       "    <tr>\n",
       "      <th>3</th>\n",
       "      <td>2011-01-25</td>\n",
       "      <td>21.1</td>\n",
       "      <td>80.2</td>\n",
       "      <td>1.0</td>\n",
       "      <td>Cocoa</td>\n",
       "      <td>0</td>\n",
       "    </tr>\n",
       "    <tr>\n",
       "      <th>4</th>\n",
       "      <td>2011-01-26</td>\n",
       "      <td>20.8</td>\n",
       "      <td>90.6</td>\n",
       "      <td>1.0</td>\n",
       "      <td>Cocoa</td>\n",
       "      <td>0</td>\n",
       "    </tr>\n",
       "    <tr>\n",
       "      <th>...</th>\n",
       "      <td>...</td>\n",
       "      <td>...</td>\n",
       "      <td>...</td>\n",
       "      <td>...</td>\n",
       "      <td>...</td>\n",
       "      <td>...</td>\n",
       "    </tr>\n",
       "    <tr>\n",
       "      <th>324</th>\n",
       "      <td>2013-09-19</td>\n",
       "      <td>63.6</td>\n",
       "      <td>56.6</td>\n",
       "      <td>1.0</td>\n",
       "      <td>Golden</td>\n",
       "      <td>10</td>\n",
       "    </tr>\n",
       "    <tr>\n",
       "      <th>325</th>\n",
       "      <td>2013-09-21</td>\n",
       "      <td>67.4</td>\n",
       "      <td>36.3</td>\n",
       "      <td>1.0</td>\n",
       "      <td>Golden</td>\n",
       "      <td>10</td>\n",
       "    </tr>\n",
       "    <tr>\n",
       "      <th>326</th>\n",
       "      <td>2013-09-22</td>\n",
       "      <td>65.2</td>\n",
       "      <td>-9999.0</td>\n",
       "      <td>1.0</td>\n",
       "      <td>Golden</td>\n",
       "      <td>10</td>\n",
       "    </tr>\n",
       "    <tr>\n",
       "      <th>327</th>\n",
       "      <td>2013-09-23</td>\n",
       "      <td>79.5</td>\n",
       "      <td>43.8</td>\n",
       "      <td>1.0</td>\n",
       "      <td>Golden</td>\n",
       "      <td>10</td>\n",
       "    </tr>\n",
       "    <tr>\n",
       "      <th>328</th>\n",
       "      <td>2013-09-24</td>\n",
       "      <td>78.2</td>\n",
       "      <td>32.7</td>\n",
       "      <td>1.0</td>\n",
       "      <td>Golden</td>\n",
       "      <td>10</td>\n",
       "    </tr>\n",
       "  </tbody>\n",
       "</table>\n",
       "<p>11286 rows × 6 columns</p>\n",
       "</div>"
      ],
      "text/plain": [
       "     Time Stamp  POA irradiance CMP22 pyranometer (W/m2)  \\\n",
       "0    2011-01-21                                     35.0   \n",
       "1    2011-01-22                                     31.4   \n",
       "2    2011-01-24                                     21.8   \n",
       "3    2011-01-25                                     21.1   \n",
       "4    2011-01-26                                     20.8   \n",
       "..          ...                                      ...   \n",
       "324  2013-09-19                                     63.6   \n",
       "325  2013-09-21                                     67.4   \n",
       "326  2013-09-22                                     65.2   \n",
       "327  2013-09-23                                     79.5   \n",
       "328  2013-09-24                                     78.2   \n",
       "\n",
       "     Relative humidity (%RH)  PV module soiling derate    Site  Site Index  \n",
       "0                       96.0                       1.0   Cocoa           0  \n",
       "1                    -9999.0                       1.0   Cocoa           0  \n",
       "2                       82.0                       1.0   Cocoa           0  \n",
       "3                       80.2                       1.0   Cocoa           0  \n",
       "4                       90.6                       1.0   Cocoa           0  \n",
       "..                       ...                       ...     ...         ...  \n",
       "324                     56.6                       1.0  Golden          10  \n",
       "325                     36.3                       1.0  Golden          10  \n",
       "326                  -9999.0                       1.0  Golden          10  \n",
       "327                     43.8                       1.0  Golden          10  \n",
       "328                     32.7                       1.0  Golden          10  \n",
       "\n",
       "[11286 rows x 6 columns]"
      ]
     },
     "execution_count": 11,
     "metadata": {},
     "output_type": "execute_result"
    }
   ],
   "source": [
    "df[cols+[\"Site\",\"Site Index\"] ]"
   ]
  },
  {
   "cell_type": "code",
   "execution_count": 15,
   "metadata": {},
   "outputs": [],
   "source": [
    "df_filtered = df[df[\"Relative humidity (%RH)\"] != -9999]\n",
    "df_filtered_2 = df_filtered[df_filtered[\"POA irradiance CMP22 pyranometer (W/m2)\"] < 400]"
   ]
  },
  {
   "cell_type": "code",
   "execution_count": 17,
   "metadata": {},
   "outputs": [
    {
     "data": {
      "text/plain": [
       "LinearRegression(normalize=True)"
      ]
     },
     "execution_count": 17,
     "metadata": {},
     "output_type": "execute_result"
    }
   ],
   "source": [
    "xvars = [\"Relative humidity (%RH)\", \"PV module back surface temperature (degC)\"]\n",
    "ypred = [\"PV module soiling derate\"]\n",
    "simple_reg = sklearn.linear_model.LinearRegression(normalize=True)\n",
    "simple_reg.fit(df_filtered_2.loc[:, xvars], df_filtered_2.loc[:, ypred])"
   ]
  },
  {
   "cell_type": "code",
   "execution_count": 18,
   "metadata": {},
   "outputs": [
    {
     "name": "stdout",
     "output_type": "stream",
     "text": [
      "mean squared error 2.3375938699608802e-05\n",
      "coefficients [[ 3.04336785e-05 -2.23806953e-05]]\n"
     ]
    }
   ],
   "source": [
    "pred = simple_reg.predict(df_filtered_2.loc[:, xvars])\n",
    "print(\"mean squared error\", sklearn.metrics.mean_squared_error(pred, df_filtered_2.loc[:, ypred]))\n",
    "print(\"coefficients\", simple_reg.coef_)"
   ]
  },
  {
   "cell_type": "code",
   "execution_count": 53,
   "metadata": {},
   "outputs": [
    {
     "data": {
      "text/plain": [
       "Text(0.5, 1.0, 'Soiling Degradation vs Humidity')"
      ]
     },
     "execution_count": 53,
     "metadata": {},
     "output_type": "execute_result"
    },
    {
     "data": {
      "image/png": "[encoded data removed]",
      "text/plain": [
       "<Figure size 432x288 with 1 Axes>"
      ]
     },
     "metadata": {
      "needs_background": "light"
     },
     "output_type": "display_data"
    }
   ],
   "source": [
    "plt.scatter(df_filtered_2.loc[:,[\"Relative humidity (%RH)\"]], df_filtered_2.loc[:, \"PV module soiling derate\"], color=\"black\") \n",
    "plt.xlabel(\"Relative Humidity\")\n",
    "plt.ylabel(\"Soiling Derate\")\n",
    "plt.title(\"Soiling Degradation vs Humidity\")"
   ]
  },
  {
   "cell_type": "code",
   "execution_count": 56,
   "metadata": {},
   "outputs": [
    {
     "data": {
      "text/plain": [
       "Text(0.5, 1.0, 'Soiling Degradation vs POA Irradiance')"
      ]
     },
     "execution_count": 56,
     "metadata": {},
     "output_type": "execute_result"
    },
    {
     "data": {
      "image/png": "[encoded data removed]",
      "text/plain": [
       "<Figure size 432x288 with 1 Axes>"
      ]
     },
     "metadata": {
      "needs_background": "light"
     },
     "output_type": "display_data"
    }
   ],
   "source": [
    "plt.scatter(df_filtered_2.loc[:,[\"PV module soiling derate\"]], df_filtered_2.loc[:, \"POA irradiance CMP22 pyranometer (W/m2)\"], color=\"black\") \n",
    "plt.xlabel(\"Soiling Derate\")\n",
    "plt.ylabel(\"POA Irradiance\")\n",
    "plt.title(\"Soiling Degradation vs POA Irradiance\")"
   ]
  },
  {
   "cell_type": "code",
   "execution_count": 57,
   "metadata": {},
   "outputs": [
    {
     "data": {
      "text/plain": [
       "Text(0.5, 1.0, 'Back Temperature Effect on Soiling Degradation')"
      ]
     },
     "execution_count": 57,
     "metadata": {},
     "output_type": "execute_result"
    },
    {
     "data": {
      "image/png": "[encoded data removed]",
      "text/plain": [
       "<Figure size 432x288 with 1 Axes>"
      ]
     },
     "metadata": {
      "needs_background": "light"
     },
     "output_type": "display_data"
    }
   ],
   "source": [
    "plt.scatter(df_filtered_2.loc[:,[\"PV module back surface temperature (degC)\"]], df_filtered_2.loc[:, \"PV module soiling derate\"], color=\"black\") \n",
    "plt.xlabel(\"Back Temperature\")\n",
    "plt.ylabel(\"Soiling Derate\")\n",
    "plt.title(\"Back Temperature Effect on Soiling Degradation\")"
   ]
  },
  {
   "cell_type": "code",
   "execution_count": null,
   "metadata": {},
   "outputs": [],
   "source": []
  },
  {
   "cell_type": "code",
   "execution_count": 43,
   "metadata": {},
   "outputs": [],
   "source": []
  },
  {
   "cell_type": "code",
   "execution_count": 35,
   "metadata": {},
   "outputs": [
    {
     "name": "stdout",
     "output_type": "stream",
     "text": [
      "count    10192.000000\n",
      "mean        74.991062\n",
      "std         21.239646\n",
      "min         10.300000\n",
      "25%         68.675000\n",
      "50%         83.800000\n",
      "75%         90.200000\n",
      "max        100.000000\n",
      "Name: Relative humidity (%RH), dtype: float64\n"
     ]
    },
    {
     "data": {
      "text/plain": [
       "<matplotlib.axes._subplots.AxesSubplot at 0x1a1cb77bd0>"
      ]
     },
     "execution_count": 35,
     "metadata": {},
     "output_type": "execute_result"
    },
    {
     "data": {
      "image/png": "[encoded data removed]",
      "text/plain": [
       "<Figure size 432x288 with 1 Axes>"
      ]
     },
     "metadata": {
      "needs_background": "light"
     },
     "output_type": "display_data"
    }
   ],
   "source": [
    "print(df_filtered[\"Relative humidity (%RH)\"].describe())\n",
    "df_filtered[\"Relative humidity (%RH)\"].hist()"
   ]
  },
  {
   "cell_type": "code",
   "execution_count": 36,
   "metadata": {},
   "outputs": [
    {
     "name": "stdout",
     "output_type": "stream",
     "text": [
      "count    10192.000000\n",
      "mean         0.997752\n",
      "std          0.004876\n",
      "min          0.964000\n",
      "25%          1.000000\n",
      "50%          1.000000\n",
      "75%          1.000000\n",
      "max          1.000000\n",
      "Name: PV module soiling derate, dtype: float64\n"
     ]
    },
    {
     "data": {
      "text/plain": [
       "<matplotlib.axes._subplots.AxesSubplot at 0x1a1ceb9bd0>"
      ]
     },
     "execution_count": 36,
     "metadata": {},
     "output_type": "execute_result"
    },
    {
     "data": {
      "image/png": "[encoded data removed]",
      "text/plain": [
       "<Figure size 432x288 with 1 Axes>"
      ]
     },
     "metadata": {
      "needs_background": "light"
     },
     "output_type": "display_data"
    }
   ],
   "source": [
    "print(df_filtered[\"PV module soiling derate\"].describe())\n",
    "df_filtered[\"PV module soiling derate\"].hist()"
   ]
  },
  {
   "cell_type": "code",
   "execution_count": 26,
   "metadata": {},
   "outputs": [
    {
     "name": "stdout",
     "output_type": "stream",
     "text": [
      "count    11286.000000\n",
      "mean         0.997620\n",
      "std          0.004866\n",
      "min          0.964000\n",
      "25%          0.995000\n",
      "50%          1.000000\n",
      "75%          1.000000\n",
      "max          1.000000\n",
      "Name: PV module soiling derate, dtype: float64\n"
     ]
    },
    {
     "data": {
      "text/plain": [
       "<matplotlib.axes._subplots.AxesSubplot at 0x1a1b3541d0>"
      ]
     },
     "execution_count": 26,
     "metadata": {},
     "output_type": "execute_result"
    },
    {
     "data": {
      "image/png": "[encoded data removed]",
      "text/plain": [
       "<Figure size 432x288 with 1 Axes>"
      ]
     },
     "metadata": {
      "needs_background": "light"
     },
     "output_type": "display_data"
    }
   ],
   "source": [
    "print(df[\"PV module soiling derate\"].describe())\n",
    "df[\"PV module soiling derate\"].hist()"
   ]
  },
  {
   "cell_type": "code",
   "execution_count": 38,
   "metadata": {},
   "outputs": [
    {
     "name": "stdout",
     "output_type": "stream",
     "text": [
      "count    10192.000000\n",
      "mean        41.818259\n",
      "std         39.055672\n",
      "min         20.000000\n",
      "25%         22.500000\n",
      "50%         25.900000\n",
      "75%         53.500000\n",
      "max       1100.600000\n",
      "Name: POA irradiance CMP22 pyranometer (W/m2), dtype: float64\n",
      "398.40450000000055\n"
     ]
    },
    {
     "data": {
      "text/plain": [
       "<matplotlib.axes._subplots.AxesSubplot at 0x1a1d536990>"
      ]
     },
     "execution_count": 38,
     "metadata": {},
     "output_type": "execute_result"
    },
    {
     "data": {
      "image/png": "[encoded data removed]",
      "text/plain": [
       "<Figure size 432x288 with 1 Axes>"
      ]
     },
     "metadata": {
      "needs_background": "light"
     },
     "output_type": "display_data"
    }
   ],
   "source": [
    "print(df_filtered[\"POA irradiance CMP22 pyranometer (W/m2)\"].describe())\n",
    "print(df_filtered[\"POA irradiance CMP22 pyranometer (W/m2)\"].quantile(0.999))\n",
    "df_filtered[\"POA irradiance CMP22 pyranometer (W/m2)\"].hist()"
   ]
  },
  {
   "cell_type": "code",
   "execution_count": 33,
   "metadata": {},
   "outputs": [
    {
     "name": "stdout",
     "output_type": "stream",
     "text": [
      "count    11286.000000\n",
      "mean        44.487852\n",
      "std         39.186134\n",
      "min         20.000000\n",
      "25%         22.800000\n",
      "50%         27.200000\n",
      "75%         57.600000\n",
      "max       1100.600000\n",
      "Name: POA irradiance CMP22 pyranometer (W/m2), dtype: float64\n",
      "397.88600000000076\n"
     ]
    },
    {
     "data": {
      "text/plain": [
       "<matplotlib.axes._subplots.AxesSubplot at 0x1a1cc992d0>"
      ]
     },
     "execution_count": 33,
     "metadata": {},
     "output_type": "execute_result"
    },
    {
     "data": {
      "image/png": "[encoded data removed]",
      "text/plain": [
       "<Figure size 432x288 with 1 Axes>"
      ]
     },
     "metadata": {
      "needs_background": "light"
     },
     "output_type": "display_data"
    }
   ],
   "source": [
    "print(df[\"POA irradiance CMP22 pyranometer (W/m2)\"].describe())\n",
    "print(df[\"POA irradiance CMP22 pyranometer (W/m2)\"].quantile(0.999))\n",
    "df[\"POA irradiance CMP22 pyranometer (W/m2)\"].hist()"
   ]
  },
  {
   "cell_type": "code",
   "execution_count": 54,
   "metadata": {},
   "outputs": [
    {
     "name": "stdout",
     "output_type": "stream",
     "text": [
      "count    11286.000000\n",
      "mean        12.598627\n",
      "std          7.848526\n",
      "min        -18.900000\n",
      "25%          7.100000\n",
      "50%         13.000000\n",
      "75%         18.500000\n",
      "max         47.700000\n",
      "Name: PV module back surface temperature (degC), dtype: float64\n"
     ]
    },
    {
     "data": {
      "text/plain": [
       "<matplotlib.axes._subplots.AxesSubplot at 0x1a1de4cb90>"
      ]
     },
     "execution_count": 54,
     "metadata": {},
     "output_type": "execute_result"
    },
    {
     "data": {
      "image/png": "[encoded data removed]",
      "text/plain": [
       "<Figure size 432x288 with 1 Axes>"
      ]
     },
     "metadata": {
      "needs_background": "light"
     },
     "output_type": "display_data"
    }
   ],
   "source": [
    "print(df[\"PV module back surface temperature (degC)\"].describe())\n",
    "#print(df[\"PV module back surface temperature (degC)\"].quantile(0.999))\n",
    "df[\"PV module back surface temperature (degC)\"].hist()"
   ]
  },
  {
   "cell_type": "code",
   "execution_count": 52,
   "metadata": {},
   "outputs": [
    {
     "data": {
      "text/plain": [
       "Index(['Time Stamp', 'Time Stamp (local standard time) yyyy-mm-ddThh:mm:ss',\n",
       "       'POA irradiance CMP22 pyranometer (W/m2)',\n",
       "       'POA irradiance uncertainty (%)',\n",
       "       'PV module back surface temperature (degC)',\n",
       "       'PV module back surface temperature uncertainty (degC)', 'Isc (A)',\n",
       "       'Isc uncertainty (%)', 'Pmp (W)', 'Pmp uncertainty (%)', 'Imp (A)',\n",
       "       'Imp uncertainty (%)', 'Vmp (V)', 'Vmp uncertainty (%)', 'Voc (V)',\n",
       "       'Voc uncertainty (%)', 'FF (%FF)', 'FF uncertainty (%)',\n",
       "       'Change in CMP22 during I-V scan +/- W/m2',\n",
       "       'Change in Li-COR during I-V scan +/- W/m2',\n",
       "       'MT5 cabinet temperature (degC)', 'Dry bulb temperature (degC)',\n",
       "       'Dry bulb temperature uncertainty (degC)', 'Relative humidity (%RH)',\n",
       "       'Relative humidity uncertainty (%RH)', 'Atmospheric pressure (mb)',\n",
       "       'Atmospheric pressure uncertainty (%)',\n",
       "       'Precipitation (mm) accumulated daily total',\n",
       "       'Direct normal irradiance (W/m2)',\n",
       "       'Direct normal irradiance uncertainty (%)',\n",
       "       'Direct normal irradiance standard deviation of 1-second samples of 5-second average (W/m2)',\n",
       "       'Global horizontal irradiance (W/m2)',\n",
       "       'Global horizontal irradiance uncertainty (%)',\n",
       "       'Global horizontal irradiance standard deviation of 1-second samples of 5-second average (W/m2)',\n",
       "       'Diffuse horizontal irradiance (W/m2)',\n",
       "       'Diffuse horizontal irradiance uncertainty (%)',\n",
       "       'Diffuse horizontal irradiance standard deviation of 1-second samples of 5-second average (W/m2)',\n",
       "       'Solar QA residual (W/m2) = Direct*cos(zenith) + Diffuse Horiz. Global Horiz',\n",
       "       'PV module soiling derate',\n",
       "       'Daily maintenance start time (hour: minute) - no maintenance that day = 99:99',\n",
       "       'Daily maintenance end time (hour: minute) - no maintenance that day = 99:99',\n",
       "       'Precipitation prior to daily maintenance (mm) accumulated daily total',\n",
       "       'Number of I-V curve data pairs (n)', 'Site', 'Site Index'],\n",
       "      dtype='object')"
      ]
     },
     "execution_count": 52,
     "metadata": {},
     "output_type": "execute_result"
    }
   ],
   "source": [
    "df.columns"
   ]
  },
  {
   "cell_type": "code",
   "execution_count": null,
   "metadata": {},
   "outputs": [],
   "source": []
  }
 ],
 "metadata": {
  "kernelspec": {
   "display_name": "Python 3",
   "language": "python",
   "name": "python3"
  },
  "language_info": {
   "codemirror_mode": {
    "name": "ipython",
    "version": 3
   },
   "file_extension": ".py",
   "mimetype": "text/x-python",
   "name": "python",
   "nbconvert_exporter": "python",
   "pygments_lexer": "ipython3",
   "version": "3.7.7"
  }
 },
 "nbformat": 4,
 "nbformat_minor": 4
}
